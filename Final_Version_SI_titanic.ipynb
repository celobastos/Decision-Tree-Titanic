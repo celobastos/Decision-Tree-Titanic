{
  "cells": [
    {
      "cell_type": "markdown",
      "metadata": {
        "id": "ViNIHzZC7w-B"
      },
      "source": [
        "# 🌲 **Mini-projeto: Árvore de Decisão**\n",
        "\n",
        "## Grupo:\n",
        "\n",
        "*   Arthur Brito Medeiros (abm5)\n",
        "*   Marcelo Vinícius Bastos Santos(mvbs4)\n",
        "*   Lucas Daniel Costa da Silva (ldcs)\n",
        "*   Vinícius Bastos Moreira Principe (vbmp)\n",
        "*   Vitória Pinheiro da Silva (vps3)\n",
        "*   Yasmin Maria Wanderley Soares (ymws)"
      ]
    },
    {
      "cell_type": "markdown",
      "metadata": {
        "id": "MtqoukBb72fl"
      },
      "source": [
        "![dt.png](data:image/png;base64,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)"
      ]
    },
    {
      "cell_type": "code",
      "execution_count": null,
      "metadata": {
        "colab": {
          "base_uri": "https://localhost:8080/"
        },
        "id": "ReGeWbYGYkpL",
        "outputId": "bea81120-6bdf-4c33-cba7-fae509f0c4e6"
      },
      "outputs": [
        {
          "name": "stdout",
          "output_type": "stream",
          "text": [
            "Drive already mounted at /content/drive; to attempt to forcibly remount, call drive.mount(\"/content/drive\", force_remount=True).\n"
          ]
        }
      ],
      "source": [
        "# Montando o drive\n",
        "from google.colab import drive\n",
        "drive.mount('/content/drive')"
      ]
    },
    {
      "cell_type": "markdown",
      "metadata": {
        "id": "Zf_uF309YPnb"
      },
      "source": [
        "# 📘Importando Bibliotecas"
      ]
    },
    {
      "cell_type": "markdown",
      "metadata": {
        "id": "IPiijih28Y1b"
      },
      "source": [
        "Utilizamos, nesse pequeno projeto, o dataset do [Titanic - Machine Learning from Disaster](https://www.kaggle.com/competitions/titanic/overview) extraído diretamente do Kaggle. Os dados estão já divididos em dois grupos:\n",
        "\n",
        "*  training set (train.csv)\n",
        "*  test set (test.csv)"
      ]
    },
    {
      "cell_type": "code",
      "execution_count": null,
      "metadata": {
        "id": "q-M7LCd5YJpb"
      },
      "outputs": [],
      "source": [
        "# Importando as bibliotecas necessárias para o treinamento do modelo\n",
        "import numpy as np\n",
        "import pandas as pd\n",
        "import seaborn as sns\n",
        "import matplotlib.pyplot as plt\n",
        "from collections import Counter\n",
        "\n",
        "from sklearn.preprocessing import StandardScaler\n",
        "\n",
        "from sklearn.model_selection import cross_val_score\n",
        "from sklearn import tree\n",
        "from sklearn.ensemble import RandomForestClassifier\n",
        "\n",
        "from sklearn.model_selection import GridSearchCV\n",
        "from sklearn.model_selection import RandomizedSearchCV\n",
        "\n",
        "from sklearn.model_selection import train_test_split\n",
        "\n",
        "from sklearn.metrics import classification_report\n",
        "\n",
        "import os"
      ]
    },
    {
      "cell_type": "code",
      "execution_count": null,
      "metadata": {
        "id": "b6HWA5gQEQx4"
      },
      "outputs": [],
      "source": [
        "# Setando a seed fixa\n",
        "SEED = 17\n",
        "np.random.seed(SEED)\n",
        "\n"
      ]
    },
    {
      "cell_type": "markdown",
      "source": [
        "**O DATASET DE TEST VEIO SEM OS LABELS. Muito provalvemente porque este dataset era de uma competição no kaggle.**\n",
        "\n",
        "Vamos separa treino e teste somente no treino"
      ],
      "metadata": {
        "id": "UaPK8rixXoex"
      }
    },
    {
      "cell_type": "code",
      "execution_count": null,
      "metadata": {
        "id": "RA7B9V6zZSHP"
      },
      "outputs": [],
      "source": [
        "# Paths onde se encontram os datasets de teste e treino\n",
        "\n",
        "dataset_train = pd.read_csv('train.csv')\n",
        "\n",
        "#dataset_test = pd.read_csv('/content/drive/MyDrive/SI Project Titanic/titanic/test.csv')"
      ]
    },
    {
      "cell_type": "code",
      "source": [
        "dataset_train, dataset_test = train_test_split(dataset_train, test_size = 0.3)"
      ],
      "metadata": {
        "id": "Wl5_54MfYDV_"
      },
      "execution_count": null,
      "outputs": []
    },
    {
      "cell_type": "code",
      "execution_count": null,
      "metadata": {
        "colab": {
          "base_uri": "https://localhost:8080/",
          "height": 328
        },
        "id": "jSj0vWBWpB2m",
        "outputId": "03744c47-6fe1-4a7f-fded-74cd5d715fbd"
      },
      "outputs": [
        {
          "output_type": "error",
          "ename": "MessageError",
          "evalue": "ignored",
          "traceback": [
            "\u001b[0;31m---------------------------------------------------------------------------\u001b[0m",
            "\u001b[0;31mMessageError\u001b[0m                              Traceback (most recent call last)",
            "\u001b[0;32m<ipython-input-8-d5df0069828e>\u001b[0m in \u001b[0;36m<cell line: 2>\u001b[0;34m()\u001b[0m\n\u001b[1;32m      1\u001b[0m \u001b[0;32mfrom\u001b[0m \u001b[0mgoogle\u001b[0m\u001b[0;34m.\u001b[0m\u001b[0mcolab\u001b[0m \u001b[0;32mimport\u001b[0m \u001b[0mdrive\u001b[0m\u001b[0;34m\u001b[0m\u001b[0;34m\u001b[0m\u001b[0m\n\u001b[0;32m----> 2\u001b[0;31m \u001b[0mdrive\u001b[0m\u001b[0;34m.\u001b[0m\u001b[0mmount\u001b[0m\u001b[0;34m(\u001b[0m\u001b[0;34m'/content/drive'\u001b[0m\u001b[0;34m)\u001b[0m\u001b[0;34m\u001b[0m\u001b[0;34m\u001b[0m\u001b[0m\n\u001b[0m",
            "\u001b[0;32m/usr/local/lib/python3.9/dist-packages/google/colab/drive.py\u001b[0m in \u001b[0;36mmount\u001b[0;34m(mountpoint, force_remount, timeout_ms, readonly)\u001b[0m\n\u001b[1;32m    101\u001b[0m \u001b[0;32mdef\u001b[0m \u001b[0mmount\u001b[0m\u001b[0;34m(\u001b[0m\u001b[0mmountpoint\u001b[0m\u001b[0;34m,\u001b[0m \u001b[0mforce_remount\u001b[0m\u001b[0;34m=\u001b[0m\u001b[0;32mFalse\u001b[0m\u001b[0;34m,\u001b[0m \u001b[0mtimeout_ms\u001b[0m\u001b[0;34m=\u001b[0m\u001b[0;36m120000\u001b[0m\u001b[0;34m,\u001b[0m \u001b[0mreadonly\u001b[0m\u001b[0;34m=\u001b[0m\u001b[0;32mFalse\u001b[0m\u001b[0;34m)\u001b[0m\u001b[0;34m:\u001b[0m\u001b[0;34m\u001b[0m\u001b[0;34m\u001b[0m\u001b[0m\n\u001b[1;32m    102\u001b[0m   \u001b[0;34m\"\"\"Mount your Google Drive at the specified mountpoint path.\"\"\"\u001b[0m\u001b[0;34m\u001b[0m\u001b[0;34m\u001b[0m\u001b[0m\n\u001b[0;32m--> 103\u001b[0;31m   return _mount(\n\u001b[0m\u001b[1;32m    104\u001b[0m       \u001b[0mmountpoint\u001b[0m\u001b[0;34m,\u001b[0m\u001b[0;34m\u001b[0m\u001b[0;34m\u001b[0m\u001b[0m\n\u001b[1;32m    105\u001b[0m       \u001b[0mforce_remount\u001b[0m\u001b[0;34m=\u001b[0m\u001b[0mforce_remount\u001b[0m\u001b[0;34m,\u001b[0m\u001b[0;34m\u001b[0m\u001b[0;34m\u001b[0m\u001b[0m\n",
            "\u001b[0;32m/usr/local/lib/python3.9/dist-packages/google/colab/drive.py\u001b[0m in \u001b[0;36m_mount\u001b[0;34m(mountpoint, force_remount, timeout_ms, ephemeral, readonly)\u001b[0m\n\u001b[1;32m    130\u001b[0m   )\n\u001b[1;32m    131\u001b[0m   \u001b[0;32mif\u001b[0m \u001b[0mephemeral\u001b[0m\u001b[0;34m:\u001b[0m\u001b[0;34m\u001b[0m\u001b[0;34m\u001b[0m\u001b[0m\n\u001b[0;32m--> 132\u001b[0;31m     _message.blocking_request(\n\u001b[0m\u001b[1;32m    133\u001b[0m         \u001b[0;34m'request_auth'\u001b[0m\u001b[0;34m,\u001b[0m \u001b[0mrequest\u001b[0m\u001b[0;34m=\u001b[0m\u001b[0;34m{\u001b[0m\u001b[0;34m'authType'\u001b[0m\u001b[0;34m:\u001b[0m \u001b[0;34m'dfs_ephemeral'\u001b[0m\u001b[0;34m}\u001b[0m\u001b[0;34m,\u001b[0m \u001b[0mtimeout_sec\u001b[0m\u001b[0;34m=\u001b[0m\u001b[0;32mNone\u001b[0m\u001b[0;34m\u001b[0m\u001b[0;34m\u001b[0m\u001b[0m\n\u001b[1;32m    134\u001b[0m     )\n",
            "\u001b[0;32m/usr/local/lib/python3.9/dist-packages/google/colab/_message.py\u001b[0m in \u001b[0;36mblocking_request\u001b[0;34m(request_type, request, timeout_sec, parent)\u001b[0m\n\u001b[1;32m    175\u001b[0m       \u001b[0mrequest_type\u001b[0m\u001b[0;34m,\u001b[0m \u001b[0mrequest\u001b[0m\u001b[0;34m,\u001b[0m \u001b[0mparent\u001b[0m\u001b[0;34m=\u001b[0m\u001b[0mparent\u001b[0m\u001b[0;34m,\u001b[0m \u001b[0mexpect_reply\u001b[0m\u001b[0;34m=\u001b[0m\u001b[0;32mTrue\u001b[0m\u001b[0;34m\u001b[0m\u001b[0;34m\u001b[0m\u001b[0m\n\u001b[1;32m    176\u001b[0m   )\n\u001b[0;32m--> 177\u001b[0;31m   \u001b[0;32mreturn\u001b[0m \u001b[0mread_reply_from_input\u001b[0m\u001b[0;34m(\u001b[0m\u001b[0mrequest_id\u001b[0m\u001b[0;34m,\u001b[0m \u001b[0mtimeout_sec\u001b[0m\u001b[0;34m)\u001b[0m\u001b[0;34m\u001b[0m\u001b[0;34m\u001b[0m\u001b[0m\n\u001b[0m",
            "\u001b[0;32m/usr/local/lib/python3.9/dist-packages/google/colab/_message.py\u001b[0m in \u001b[0;36mread_reply_from_input\u001b[0;34m(message_id, timeout_sec)\u001b[0m\n\u001b[1;32m    102\u001b[0m     ):\n\u001b[1;32m    103\u001b[0m       \u001b[0;32mif\u001b[0m \u001b[0;34m'error'\u001b[0m \u001b[0;32min\u001b[0m \u001b[0mreply\u001b[0m\u001b[0;34m:\u001b[0m\u001b[0;34m\u001b[0m\u001b[0;34m\u001b[0m\u001b[0m\n\u001b[0;32m--> 104\u001b[0;31m         \u001b[0;32mraise\u001b[0m \u001b[0mMessageError\u001b[0m\u001b[0;34m(\u001b[0m\u001b[0mreply\u001b[0m\u001b[0;34m[\u001b[0m\u001b[0;34m'error'\u001b[0m\u001b[0;34m]\u001b[0m\u001b[0;34m)\u001b[0m\u001b[0;34m\u001b[0m\u001b[0;34m\u001b[0m\u001b[0m\n\u001b[0m\u001b[1;32m    105\u001b[0m       \u001b[0;32mreturn\u001b[0m \u001b[0mreply\u001b[0m\u001b[0;34m.\u001b[0m\u001b[0mget\u001b[0m\u001b[0;34m(\u001b[0m\u001b[0;34m'data'\u001b[0m\u001b[0;34m,\u001b[0m \u001b[0;32mNone\u001b[0m\u001b[0;34m)\u001b[0m\u001b[0;34m\u001b[0m\u001b[0;34m\u001b[0m\u001b[0m\n\u001b[1;32m    106\u001b[0m \u001b[0;34m\u001b[0m\u001b[0m\n",
            "\u001b[0;31mMessageError\u001b[0m: Error: credential propagation was unsuccessful"
          ]
        }
      ],
      "source": [
        "from google.colab import drive\n",
        "drive.mount('/content/drive')"
      ]
    },
    {
      "cell_type": "code",
      "execution_count": null,
      "metadata": {
        "colab": {
          "base_uri": "https://localhost:8080/",
          "height": 424
        },
        "id": "y2tRnBlCYJpc",
        "outputId": "27adcb0a-6484-4eae-8318-0074ef409406"
      },
      "outputs": [
        {
          "output_type": "execute_result",
          "data": {
            "text/plain": [
              "     PassengerId  Survived  Pclass                                     Name  \\\n",
              "66            67         1       2             Nye, Mrs. (Elizabeth Ramell)   \n",
              "381          382         1       3              Nakid, Miss. Maria (\"Mary\")   \n",
              "223          224         0       3                     Nenkoff, Mr. Christo   \n",
              "629          630         0       3                 O'Connell, Mr. Patrick D   \n",
              "337          338         1       1          Burns, Miss. Elizabeth Margaret   \n",
              "..           ...       ...     ...                                      ...   \n",
              "150          151         0       2               Bateman, Rev. Robert James   \n",
              "499          500         0       3                       Svensson, Mr. Olof   \n",
              "7              8         0       3           Palsson, Master. Gosta Leonard   \n",
              "736          737         0       3  Ford, Mrs. Edward (Margaret Ann Watson)   \n",
              "34            35         0       1                  Meyer, Mr. Edgar Joseph   \n",
              "\n",
              "        Sex   Age  SibSp  Parch       Ticket      Fare Cabin Embarked  \\\n",
              "66   female  29.0      0      0   C.A. 29395   10.5000   F33        S   \n",
              "381  female   1.0      0      2         2653   15.7417   NaN        C   \n",
              "223    male   NaN      0      0       349234    7.8958   NaN        S   \n",
              "629    male   NaN      0      0       334912    7.7333   NaN        Q   \n",
              "337  female  41.0      0      0        16966  134.5000   E40        C   \n",
              "..      ...   ...    ...    ...          ...       ...   ...      ...   \n",
              "150    male  51.0      0      0  S.O.P. 1166   12.5250   NaN        S   \n",
              "499    male  24.0      0      0       350035    7.7958   NaN        S   \n",
              "7      male   2.0      3      1       349909   21.0750   NaN        S   \n",
              "736  female  48.0      1      3   W./C. 6608   34.3750   NaN        S   \n",
              "34     male  28.0      1      0     PC 17604   82.1708   NaN        C   \n",
              "\n",
              "     training_data  \n",
              "66            True  \n",
              "381           True  \n",
              "223           True  \n",
              "629           True  \n",
              "337           True  \n",
              "..             ...  \n",
              "150          False  \n",
              "499          False  \n",
              "7            False  \n",
              "736          False  \n",
              "34           False  \n",
              "\n",
              "[891 rows x 13 columns]"
            ],
            "text/html": [
              "\n",
              "  <div id=\"df-024a00f2-2bff-4e49-b99e-c619d65b138e\">\n",
              "    <div class=\"colab-df-container\">\n",
              "      <div>\n",
              "<style scoped>\n",
              "    .dataframe tbody tr th:only-of-type {\n",
              "        vertical-align: middle;\n",
              "    }\n",
              "\n",
              "    .dataframe tbody tr th {\n",
              "        vertical-align: top;\n",
              "    }\n",
              "\n",
              "    .dataframe thead th {\n",
              "        text-align: right;\n",
              "    }\n",
              "</style>\n",
              "<table border=\"1\" class=\"dataframe\">\n",
              "  <thead>\n",
              "    <tr style=\"text-align: right;\">\n",
              "      <th></th>\n",
              "      <th>PassengerId</th>\n",
              "      <th>Survived</th>\n",
              "      <th>Pclass</th>\n",
              "      <th>Name</th>\n",
              "      <th>Sex</th>\n",
              "      <th>Age</th>\n",
              "      <th>SibSp</th>\n",
              "      <th>Parch</th>\n",
              "      <th>Ticket</th>\n",
              "      <th>Fare</th>\n",
              "      <th>Cabin</th>\n",
              "      <th>Embarked</th>\n",
              "      <th>training_data</th>\n",
              "    </tr>\n",
              "  </thead>\n",
              "  <tbody>\n",
              "    <tr>\n",
              "      <th>66</th>\n",
              "      <td>67</td>\n",
              "      <td>1</td>\n",
              "      <td>2</td>\n",
              "      <td>Nye, Mrs. (Elizabeth Ramell)</td>\n",
              "      <td>female</td>\n",
              "      <td>29.0</td>\n",
              "      <td>0</td>\n",
              "      <td>0</td>\n",
              "      <td>C.A. 29395</td>\n",
              "      <td>10.5000</td>\n",
              "      <td>F33</td>\n",
              "      <td>S</td>\n",
              "      <td>True</td>\n",
              "    </tr>\n",
              "    <tr>\n",
              "      <th>381</th>\n",
              "      <td>382</td>\n",
              "      <td>1</td>\n",
              "      <td>3</td>\n",
              "      <td>Nakid, Miss. Maria (\"Mary\")</td>\n",
              "      <td>female</td>\n",
              "      <td>1.0</td>\n",
              "      <td>0</td>\n",
              "      <td>2</td>\n",
              "      <td>2653</td>\n",
              "      <td>15.7417</td>\n",
              "      <td>NaN</td>\n",
              "      <td>C</td>\n",
              "      <td>True</td>\n",
              "    </tr>\n",
              "    <tr>\n",
              "      <th>223</th>\n",
              "      <td>224</td>\n",
              "      <td>0</td>\n",
              "      <td>3</td>\n",
              "      <td>Nenkoff, Mr. Christo</td>\n",
              "      <td>male</td>\n",
              "      <td>NaN</td>\n",
              "      <td>0</td>\n",
              "      <td>0</td>\n",
              "      <td>349234</td>\n",
              "      <td>7.8958</td>\n",
              "      <td>NaN</td>\n",
              "      <td>S</td>\n",
              "      <td>True</td>\n",
              "    </tr>\n",
              "    <tr>\n",
              "      <th>629</th>\n",
              "      <td>630</td>\n",
              "      <td>0</td>\n",
              "      <td>3</td>\n",
              "      <td>O'Connell, Mr. Patrick D</td>\n",
              "      <td>male</td>\n",
              "      <td>NaN</td>\n",
              "      <td>0</td>\n",
              "      <td>0</td>\n",
              "      <td>334912</td>\n",
              "      <td>7.7333</td>\n",
              "      <td>NaN</td>\n",
              "      <td>Q</td>\n",
              "      <td>True</td>\n",
              "    </tr>\n",
              "    <tr>\n",
              "      <th>337</th>\n",
              "      <td>338</td>\n",
              "      <td>1</td>\n",
              "      <td>1</td>\n",
              "      <td>Burns, Miss. Elizabeth Margaret</td>\n",
              "      <td>female</td>\n",
              "      <td>41.0</td>\n",
              "      <td>0</td>\n",
              "      <td>0</td>\n",
              "      <td>16966</td>\n",
              "      <td>134.5000</td>\n",
              "      <td>E40</td>\n",
              "      <td>C</td>\n",
              "      <td>True</td>\n",
              "    </tr>\n",
              "    <tr>\n",
              "      <th>...</th>\n",
              "      <td>...</td>\n",
              "      <td>...</td>\n",
              "      <td>...</td>\n",
              "      <td>...</td>\n",
              "      <td>...</td>\n",
              "      <td>...</td>\n",
              "      <td>...</td>\n",
              "      <td>...</td>\n",
              "      <td>...</td>\n",
              "      <td>...</td>\n",
              "      <td>...</td>\n",
              "      <td>...</td>\n",
              "      <td>...</td>\n",
              "    </tr>\n",
              "    <tr>\n",
              "      <th>150</th>\n",
              "      <td>151</td>\n",
              "      <td>0</td>\n",
              "      <td>2</td>\n",
              "      <td>Bateman, Rev. Robert James</td>\n",
              "      <td>male</td>\n",
              "      <td>51.0</td>\n",
              "      <td>0</td>\n",
              "      <td>0</td>\n",
              "      <td>S.O.P. 1166</td>\n",
              "      <td>12.5250</td>\n",
              "      <td>NaN</td>\n",
              "      <td>S</td>\n",
              "      <td>False</td>\n",
              "    </tr>\n",
              "    <tr>\n",
              "      <th>499</th>\n",
              "      <td>500</td>\n",
              "      <td>0</td>\n",
              "      <td>3</td>\n",
              "      <td>Svensson, Mr. Olof</td>\n",
              "      <td>male</td>\n",
              "      <td>24.0</td>\n",
              "      <td>0</td>\n",
              "      <td>0</td>\n",
              "      <td>350035</td>\n",
              "      <td>7.7958</td>\n",
              "      <td>NaN</td>\n",
              "      <td>S</td>\n",
              "      <td>False</td>\n",
              "    </tr>\n",
              "    <tr>\n",
              "      <th>7</th>\n",
              "      <td>8</td>\n",
              "      <td>0</td>\n",
              "      <td>3</td>\n",
              "      <td>Palsson, Master. Gosta Leonard</td>\n",
              "      <td>male</td>\n",
              "      <td>2.0</td>\n",
              "      <td>3</td>\n",
              "      <td>1</td>\n",
              "      <td>349909</td>\n",
              "      <td>21.0750</td>\n",
              "      <td>NaN</td>\n",
              "      <td>S</td>\n",
              "      <td>False</td>\n",
              "    </tr>\n",
              "    <tr>\n",
              "      <th>736</th>\n",
              "      <td>737</td>\n",
              "      <td>0</td>\n",
              "      <td>3</td>\n",
              "      <td>Ford, Mrs. Edward (Margaret Ann Watson)</td>\n",
              "      <td>female</td>\n",
              "      <td>48.0</td>\n",
              "      <td>1</td>\n",
              "      <td>3</td>\n",
              "      <td>W./C. 6608</td>\n",
              "      <td>34.3750</td>\n",
              "      <td>NaN</td>\n",
              "      <td>S</td>\n",
              "      <td>False</td>\n",
              "    </tr>\n",
              "    <tr>\n",
              "      <th>34</th>\n",
              "      <td>35</td>\n",
              "      <td>0</td>\n",
              "      <td>1</td>\n",
              "      <td>Meyer, Mr. Edgar Joseph</td>\n",
              "      <td>male</td>\n",
              "      <td>28.0</td>\n",
              "      <td>1</td>\n",
              "      <td>0</td>\n",
              "      <td>PC 17604</td>\n",
              "      <td>82.1708</td>\n",
              "      <td>NaN</td>\n",
              "      <td>C</td>\n",
              "      <td>False</td>\n",
              "    </tr>\n",
              "  </tbody>\n",
              "</table>\n",
              "<p>891 rows × 13 columns</p>\n",
              "</div>\n",
              "      <button class=\"colab-df-convert\" onclick=\"convertToInteractive('df-024a00f2-2bff-4e49-b99e-c619d65b138e')\"\n",
              "              title=\"Convert this dataframe to an interactive table.\"\n",
              "              style=\"display:none;\">\n",
              "        \n",
              "  <svg xmlns=\"http://www.w3.org/2000/svg\" height=\"24px\"viewBox=\"0 0 24 24\"\n",
              "       width=\"24px\">\n",
              "    <path d=\"M0 0h24v24H0V0z\" fill=\"none\"/>\n",
              "    <path d=\"M18.56 5.44l.94 2.06.94-2.06 2.06-.94-2.06-.94-.94-2.06-.94 2.06-2.06.94zm-11 1L8.5 8.5l.94-2.06 2.06-.94-2.06-.94L8.5 2.5l-.94 2.06-2.06.94zm10 10l.94 2.06.94-2.06 2.06-.94-2.06-.94-.94-2.06-.94 2.06-2.06.94z\"/><path d=\"M17.41 7.96l-1.37-1.37c-.4-.4-.92-.59-1.43-.59-.52 0-1.04.2-1.43.59L10.3 9.45l-7.72 7.72c-.78.78-.78 2.05 0 2.83L4 21.41c.39.39.9.59 1.41.59.51 0 1.02-.2 1.41-.59l7.78-7.78 2.81-2.81c.8-.78.8-2.07 0-2.86zM5.41 20L4 18.59l7.72-7.72 1.47 1.35L5.41 20z\"/>\n",
              "  </svg>\n",
              "      </button>\n",
              "      \n",
              "  <style>\n",
              "    .colab-df-container {\n",
              "      display:flex;\n",
              "      flex-wrap:wrap;\n",
              "      gap: 12px;\n",
              "    }\n",
              "\n",
              "    .colab-df-convert {\n",
              "      background-color: #E8F0FE;\n",
              "      border: none;\n",
              "      border-radius: 50%;\n",
              "      cursor: pointer;\n",
              "      display: none;\n",
              "      fill: #1967D2;\n",
              "      height: 32px;\n",
              "      padding: 0 0 0 0;\n",
              "      width: 32px;\n",
              "    }\n",
              "\n",
              "    .colab-df-convert:hover {\n",
              "      background-color: #E2EBFA;\n",
              "      box-shadow: 0px 1px 2px rgba(60, 64, 67, 0.3), 0px 1px 3px 1px rgba(60, 64, 67, 0.15);\n",
              "      fill: #174EA6;\n",
              "    }\n",
              "\n",
              "    [theme=dark] .colab-df-convert {\n",
              "      background-color: #3B4455;\n",
              "      fill: #D2E3FC;\n",
              "    }\n",
              "\n",
              "    [theme=dark] .colab-df-convert:hover {\n",
              "      background-color: #434B5C;\n",
              "      box-shadow: 0px 1px 3px 1px rgba(0, 0, 0, 0.15);\n",
              "      filter: drop-shadow(0px 1px 2px rgba(0, 0, 0, 0.3));\n",
              "      fill: #FFFFFF;\n",
              "    }\n",
              "  </style>\n",
              "\n",
              "      <script>\n",
              "        const buttonEl =\n",
              "          document.querySelector('#df-024a00f2-2bff-4e49-b99e-c619d65b138e button.colab-df-convert');\n",
              "        buttonEl.style.display =\n",
              "          google.colab.kernel.accessAllowed ? 'block' : 'none';\n",
              "\n",
              "        async function convertToInteractive(key) {\n",
              "          const element = document.querySelector('#df-024a00f2-2bff-4e49-b99e-c619d65b138e');\n",
              "          const dataTable =\n",
              "            await google.colab.kernel.invokeFunction('convertToInteractive',\n",
              "                                                     [key], {});\n",
              "          if (!dataTable) return;\n",
              "\n",
              "          const docLinkHtml = 'Like what you see? Visit the ' +\n",
              "            '<a target=\"_blank\" href=https://colab.research.google.com/notebooks/data_table.ipynb>data table notebook</a>'\n",
              "            + ' to learn more about interactive tables.';\n",
              "          element.innerHTML = '';\n",
              "          dataTable['output_type'] = 'display_data';\n",
              "          await google.colab.output.renderOutput(dataTable, element);\n",
              "          const docLink = document.createElement('div');\n",
              "          docLink.innerHTML = docLinkHtml;\n",
              "          element.appendChild(docLink);\n",
              "        }\n",
              "      </script>\n",
              "    </div>\n",
              "  </div>\n",
              "  "
            ]
          },
          "metadata": {},
          "execution_count": 10
        }
      ],
      "source": [
        "# Cria uma nova coluna de dados de treinamento e dados de teste,\n",
        "# onde ocorre a junção dos dois datasets\n",
        "dataset_train['training_data'] = True\n",
        "dataset_test['training_data'] = False\n",
        "\n",
        "all_data = pd.concat([dataset_train,dataset_test])\n",
        "\n",
        "all_data"
      ]
    },
    {
      "cell_type": "markdown",
      "metadata": {
        "id": "HppTZE6iYJpd"
      },
      "source": [
        "## 🔷 Exploração dos Dados\n",
        "\n",
        "Existem dois tipos de dados em nosso dataset e para cada tipo, portanto, serão feitas observações diferentes:\n",
        "### 1) Dados Numéricos\n",
        "* Utilização de histogramas - para entender as distribuições\n",
        "* Corrplot - plot das correlações entre as variáveis\n",
        "* Tabelas Pivot - para comparar a taxa de sobrevivência em vista de cada uma das variáveis numéricas\n",
        "\n",
        "### 2) Dados Categóricos\n",
        "* Bar Charts - para entender o balanceamento das classes\n",
        "* Tabelas Pivot - para entender a relação com 'survival', ou seja, a sobrevivência\n"
      ]
    },
    {
      "cell_type": "code",
      "execution_count": null,
      "metadata": {
        "colab": {
          "base_uri": "https://localhost:8080/"
        },
        "id": "iP2gB_EGo66z",
        "outputId": "906ab35b-6b42-46fa-8c71-8d69114f48eb"
      },
      "outputs": [
        {
          "output_type": "stream",
          "name": "stdout",
          "text": [
            "<class 'pandas.core.frame.DataFrame'>\n",
            "Int64Index: 623 entries, 66 to 623\n",
            "Data columns (total 13 columns):\n",
            " #   Column         Non-Null Count  Dtype  \n",
            "---  ------         --------------  -----  \n",
            " 0   PassengerId    623 non-null    int64  \n",
            " 1   Survived       623 non-null    int64  \n",
            " 2   Pclass         623 non-null    int64  \n",
            " 3   Name           623 non-null    object \n",
            " 4   Sex            623 non-null    object \n",
            " 5   Age            498 non-null    float64\n",
            " 6   SibSp          623 non-null    int64  \n",
            " 7   Parch          623 non-null    int64  \n",
            " 8   Ticket         623 non-null    object \n",
            " 9   Fare           623 non-null    float64\n",
            " 10  Cabin          146 non-null    object \n",
            " 11  Embarked       622 non-null    object \n",
            " 12  training_data  623 non-null    bool   \n",
            "dtypes: bool(1), float64(2), int64(5), object(5)\n",
            "memory usage: 63.9+ KB\n"
          ]
        }
      ],
      "source": [
        "# Informações acerca do dataset de treino\n",
        "dataset_train.info()"
      ]
    },
    {
      "cell_type": "markdown",
      "metadata": {
        "id": "z_S3NS1cpsh1"
      },
      "source": [
        "Temos, assim:\n",
        "* 177 'NULL' na coluna 'Age'\n",
        "* 687 'NULL' na coluna 'Cabin'\n",
        "* 2 'NULL' na coluna 'Embarked'"
      ]
    },
    {
      "cell_type": "code",
      "execution_count": null,
      "metadata": {
        "colab": {
          "base_uri": "https://localhost:8080/",
          "height": 300
        },
        "id": "5EAlwjvNo8SS",
        "outputId": "5cb481a7-5196-4c57-f1cc-851dab54b1f2"
      },
      "outputs": [
        {
          "output_type": "execute_result",
          "data": {
            "text/plain": [
              "       PassengerId    Survived      Pclass         Age       SibSp  \\\n",
              "count   623.000000  623.000000  623.000000  498.000000  623.000000   \n",
              "mean    437.447833    0.370787    2.304976   29.840201    0.502408   \n",
              "std     258.454497    0.483404    0.839207   14.760696    1.029896   \n",
              "min       1.000000    0.000000    1.000000    0.670000    0.000000   \n",
              "25%     222.500000    0.000000    2.000000   21.000000    0.000000   \n",
              "50%     430.000000    0.000000    3.000000   28.000000    0.000000   \n",
              "75%     660.500000    1.000000    3.000000   39.000000    1.000000   \n",
              "max     890.000000    1.000000    3.000000   80.000000    8.000000   \n",
              "\n",
              "            Parch        Fare  \n",
              "count  623.000000  623.000000  \n",
              "mean     0.382022   32.628048  \n",
              "std      0.822785   50.389667  \n",
              "min      0.000000    0.000000  \n",
              "25%      0.000000    7.910400  \n",
              "50%      0.000000   14.454200  \n",
              "75%      0.000000   31.137500  \n",
              "max      6.000000  512.329200  "
            ],
            "text/html": [
              "\n",
              "  <div id=\"df-fc92d62e-3b3c-4214-857b-d54a9d0ec9ea\">\n",
              "    <div class=\"colab-df-container\">\n",
              "      <div>\n",
              "<style scoped>\n",
              "    .dataframe tbody tr th:only-of-type {\n",
              "        vertical-align: middle;\n",
              "    }\n",
              "\n",
              "    .dataframe tbody tr th {\n",
              "        vertical-align: top;\n",
              "    }\n",
              "\n",
              "    .dataframe thead th {\n",
              "        text-align: right;\n",
              "    }\n",
              "</style>\n",
              "<table border=\"1\" class=\"dataframe\">\n",
              "  <thead>\n",
              "    <tr style=\"text-align: right;\">\n",
              "      <th></th>\n",
              "      <th>PassengerId</th>\n",
              "      <th>Survived</th>\n",
              "      <th>Pclass</th>\n",
              "      <th>Age</th>\n",
              "      <th>SibSp</th>\n",
              "      <th>Parch</th>\n",
              "      <th>Fare</th>\n",
              "    </tr>\n",
              "  </thead>\n",
              "  <tbody>\n",
              "    <tr>\n",
              "      <th>count</th>\n",
              "      <td>623.000000</td>\n",
              "      <td>623.000000</td>\n",
              "      <td>623.000000</td>\n",
              "      <td>498.000000</td>\n",
              "      <td>623.000000</td>\n",
              "      <td>623.000000</td>\n",
              "      <td>623.000000</td>\n",
              "    </tr>\n",
              "    <tr>\n",
              "      <th>mean</th>\n",
              "      <td>437.447833</td>\n",
              "      <td>0.370787</td>\n",
              "      <td>2.304976</td>\n",
              "      <td>29.840201</td>\n",
              "      <td>0.502408</td>\n",
              "      <td>0.382022</td>\n",
              "      <td>32.628048</td>\n",
              "    </tr>\n",
              "    <tr>\n",
              "      <th>std</th>\n",
              "      <td>258.454497</td>\n",
              "      <td>0.483404</td>\n",
              "      <td>0.839207</td>\n",
              "      <td>14.760696</td>\n",
              "      <td>1.029896</td>\n",
              "      <td>0.822785</td>\n",
              "      <td>50.389667</td>\n",
              "    </tr>\n",
              "    <tr>\n",
              "      <th>min</th>\n",
              "      <td>1.000000</td>\n",
              "      <td>0.000000</td>\n",
              "      <td>1.000000</td>\n",
              "      <td>0.670000</td>\n",
              "      <td>0.000000</td>\n",
              "      <td>0.000000</td>\n",
              "      <td>0.000000</td>\n",
              "    </tr>\n",
              "    <tr>\n",
              "      <th>25%</th>\n",
              "      <td>222.500000</td>\n",
              "      <td>0.000000</td>\n",
              "      <td>2.000000</td>\n",
              "      <td>21.000000</td>\n",
              "      <td>0.000000</td>\n",
              "      <td>0.000000</td>\n",
              "      <td>7.910400</td>\n",
              "    </tr>\n",
              "    <tr>\n",
              "      <th>50%</th>\n",
              "      <td>430.000000</td>\n",
              "      <td>0.000000</td>\n",
              "      <td>3.000000</td>\n",
              "      <td>28.000000</td>\n",
              "      <td>0.000000</td>\n",
              "      <td>0.000000</td>\n",
              "      <td>14.454200</td>\n",
              "    </tr>\n",
              "    <tr>\n",
              "      <th>75%</th>\n",
              "      <td>660.500000</td>\n",
              "      <td>1.000000</td>\n",
              "      <td>3.000000</td>\n",
              "      <td>39.000000</td>\n",
              "      <td>1.000000</td>\n",
              "      <td>0.000000</td>\n",
              "      <td>31.137500</td>\n",
              "    </tr>\n",
              "    <tr>\n",
              "      <th>max</th>\n",
              "      <td>890.000000</td>\n",
              "      <td>1.000000</td>\n",
              "      <td>3.000000</td>\n",
              "      <td>80.000000</td>\n",
              "      <td>8.000000</td>\n",
              "      <td>6.000000</td>\n",
              "      <td>512.329200</td>\n",
              "    </tr>\n",
              "  </tbody>\n",
              "</table>\n",
              "</div>\n",
              "      <button class=\"colab-df-convert\" onclick=\"convertToInteractive('df-fc92d62e-3b3c-4214-857b-d54a9d0ec9ea')\"\n",
              "              title=\"Convert this dataframe to an interactive table.\"\n",
              "              style=\"display:none;\">\n",
              "        \n",
              "  <svg xmlns=\"http://www.w3.org/2000/svg\" height=\"24px\"viewBox=\"0 0 24 24\"\n",
              "       width=\"24px\">\n",
              "    <path d=\"M0 0h24v24H0V0z\" fill=\"none\"/>\n",
              "    <path d=\"M18.56 5.44l.94 2.06.94-2.06 2.06-.94-2.06-.94-.94-2.06-.94 2.06-2.06.94zm-11 1L8.5 8.5l.94-2.06 2.06-.94-2.06-.94L8.5 2.5l-.94 2.06-2.06.94zm10 10l.94 2.06.94-2.06 2.06-.94-2.06-.94-.94-2.06-.94 2.06-2.06.94z\"/><path d=\"M17.41 7.96l-1.37-1.37c-.4-.4-.92-.59-1.43-.59-.52 0-1.04.2-1.43.59L10.3 9.45l-7.72 7.72c-.78.78-.78 2.05 0 2.83L4 21.41c.39.39.9.59 1.41.59.51 0 1.02-.2 1.41-.59l7.78-7.78 2.81-2.81c.8-.78.8-2.07 0-2.86zM5.41 20L4 18.59l7.72-7.72 1.47 1.35L5.41 20z\"/>\n",
              "  </svg>\n",
              "      </button>\n",
              "      \n",
              "  <style>\n",
              "    .colab-df-container {\n",
              "      display:flex;\n",
              "      flex-wrap:wrap;\n",
              "      gap: 12px;\n",
              "    }\n",
              "\n",
              "    .colab-df-convert {\n",
              "      background-color: #E8F0FE;\n",
              "      border: none;\n",
              "      border-radius: 50%;\n",
              "      cursor: pointer;\n",
              "      display: none;\n",
              "      fill: #1967D2;\n",
              "      height: 32px;\n",
              "      padding: 0 0 0 0;\n",
              "      width: 32px;\n",
              "    }\n",
              "\n",
              "    .colab-df-convert:hover {\n",
              "      background-color: #E2EBFA;\n",
              "      box-shadow: 0px 1px 2px rgba(60, 64, 67, 0.3), 0px 1px 3px 1px rgba(60, 64, 67, 0.15);\n",
              "      fill: #174EA6;\n",
              "    }\n",
              "\n",
              "    [theme=dark] .colab-df-convert {\n",
              "      background-color: #3B4455;\n",
              "      fill: #D2E3FC;\n",
              "    }\n",
              "\n",
              "    [theme=dark] .colab-df-convert:hover {\n",
              "      background-color: #434B5C;\n",
              "      box-shadow: 0px 1px 3px 1px rgba(0, 0, 0, 0.15);\n",
              "      filter: drop-shadow(0px 1px 2px rgba(0, 0, 0, 0.3));\n",
              "      fill: #FFFFFF;\n",
              "    }\n",
              "  </style>\n",
              "\n",
              "      <script>\n",
              "        const buttonEl =\n",
              "          document.querySelector('#df-fc92d62e-3b3c-4214-857b-d54a9d0ec9ea button.colab-df-convert');\n",
              "        buttonEl.style.display =\n",
              "          google.colab.kernel.accessAllowed ? 'block' : 'none';\n",
              "\n",
              "        async function convertToInteractive(key) {\n",
              "          const element = document.querySelector('#df-fc92d62e-3b3c-4214-857b-d54a9d0ec9ea');\n",
              "          const dataTable =\n",
              "            await google.colab.kernel.invokeFunction('convertToInteractive',\n",
              "                                                     [key], {});\n",
              "          if (!dataTable) return;\n",
              "\n",
              "          const docLinkHtml = 'Like what you see? Visit the ' +\n",
              "            '<a target=\"_blank\" href=https://colab.research.google.com/notebooks/data_table.ipynb>data table notebook</a>'\n",
              "            + ' to learn more about interactive tables.';\n",
              "          element.innerHTML = '';\n",
              "          dataTable['output_type'] = 'display_data';\n",
              "          await google.colab.output.renderOutput(dataTable, element);\n",
              "          const docLink = document.createElement('div');\n",
              "          docLink.innerHTML = docLinkHtml;\n",
              "          element.appendChild(docLink);\n",
              "        }\n",
              "      </script>\n",
              "    </div>\n",
              "  </div>\n",
              "  "
            ]
          },
          "metadata": {},
          "execution_count": 12
        }
      ],
      "source": [
        "# Descrição das colunas do dataset de treino\n",
        "dataset_train.describe()"
      ]
    },
    {
      "cell_type": "code",
      "execution_count": null,
      "metadata": {
        "colab": {
          "base_uri": "https://localhost:8080/"
        },
        "id": "_dVbTN5Iqf-W",
        "outputId": "638bd87b-3c9f-4f72-a016-8276085573a5"
      },
      "outputs": [
        {
          "output_type": "stream",
          "name": "stdout",
          "text": [
            "['PassengerId', 'Survived', 'Pclass', 'Age', 'SibSp', 'Parch', 'Fare']\n"
          ]
        },
        {
          "output_type": "execute_result",
          "data": {
            "text/plain": [
              "['Age', 'SibSp', 'Parch', 'Fare']"
            ]
          },
          "metadata": {},
          "execution_count": 13
        }
      ],
      "source": [
        "# Mostrando as colunas\n",
        "list_numerical_data = dataset_train.describe().columns.to_list()\n",
        "print(list_numerical_data)\n",
        "list_numerical_data = list_numerical_data[3:] # retirando 'PassengerId' (indice), 'Survived' (bool), 'Pclass' (indice)\n",
        "list_numerical_data"
      ]
    },
    {
      "cell_type": "code",
      "execution_count": null,
      "metadata": {
        "id": "drm13zqEYJpe"
      },
      "outputs": [],
      "source": [
        "# Separando o dataset de treino em colunas numéricas e categóricas\n",
        "df_num = dataset_train[list_numerical_data]\n",
        "df_cat = dataset_train[['Survived','Pclass','Sex','Ticket','Cabin','Embarked']]"
      ]
    },
    {
      "cell_type": "markdown",
      "metadata": {
        "id": "CFfByid1-8j1"
      },
      "source": [
        "### 🔹 Exploração - Variáveis Numéricas"
      ]
    },
    {
      "cell_type": "code",
      "execution_count": null,
      "metadata": {
        "colab": {
          "base_uri": "https://localhost:8080/",
          "height": 391
        },
        "id": "HmeAQRMyYJpf",
        "outputId": "de732a55-842b-49e7-d467-3438bc01ac5c"
      },
      "outputs": [
        {
          "output_type": "display_data",
          "data": {
            "text/plain": [
              "<Figure size 1500x400 with 4 Axes>"
            ],
            "image/png": "[encoded data removed]"
          },
          "metadata": {}
        }
      ],
      "source": [
        "# Distribuição de todas as variáveis numéricas\n",
        "plt.figure(figsize = (15,4))\n",
        "for i,coluna in enumerate(list_numerical_data):\n",
        "    plt.subplot(1,4,i+1)\n",
        "    plt.hist(df_num[coluna])\n",
        "    plt.title(coluna)\n",
        "plt.show()"
      ]
    },
    {
      "cell_type": "code",
      "execution_count": null,
      "metadata": {
        "colab": {
          "base_uri": "https://localhost:8080/",
          "height": 453
        },
        "id": "QXze_LXJYJpf",
        "outputId": "fe118bf9-7798-4304-ebdc-e7cba2743697"
      },
      "outputs": [
        {
          "output_type": "display_data",
          "data": {
            "text/plain": [
              "<Figure size 640x480 with 2 Axes>"
            ],
            "image/png": "[encoded data removed]"
          },
          "metadata": {}
        }
      ],
      "source": [
        "# Matriz de correlação entre as features numéricas\n",
        "plt.title(\"Matrix de Correlação das Variáveis Numéricas\")\n",
        "sns.heatmap(df_num.corr(),annot =  True, annot_kws = {'fontsize':20})\n",
        "plt.show()"
      ]
    },
    {
      "cell_type": "code",
      "execution_count": null,
      "metadata": {
        "id": "e2DC3iY4BeLD",
        "colab": {
          "base_uri": "https://localhost:8080/",
          "height": 750
        },
        "outputId": "00d1f389-4419-47f5-a531-f493a916fd57"
      },
      "outputs": [
        {
          "output_type": "stream",
          "name": "stderr",
          "text": [
            "<ipython-input-19-40d6d8d09587>:2: SettingWithCopyWarning: \n",
            "A value is trying to be set on a copy of a slice from a DataFrame.\n",
            "Try using .loc[row_indexer,col_indexer] = value instead\n",
            "\n",
            "See the caveats in the documentation: https://pandas.pydata.org/pandas-docs/stable/user_guide/indexing.html#returning-a-view-versus-a-copy\n",
            "  df_num['Survived'] = dataset_train.Survived\n",
            "/usr/local/lib/python3.9/dist-packages/seaborn/axisgrid.py:2095: UserWarning: The `size` parameter has been renamed to `height`; please update your code.\n",
            "  warnings.warn(msg, UserWarning)\n"
          ]
        },
        {
          "output_type": "display_data",
          "data": {
            "text/plain": [
              "<Figure size 672.111x600 with 20 Axes>"
            ],
            "image/png": "[encoded data removed]"
          },
          "metadata": {}
        }
      ],
      "source": [
        "#Este código cria um gráfico de dispersão pairwise (par a par) da matriz do dataset, neste caso, o argumento hue é definido como 'Class_att'\n",
        "df_num['Survived'] = dataset_train.Survived\n",
        "sns.pairplot(df_num, hue='Survived', size=1.5);"
      ]
    },
    {
      "cell_type": "code",
      "execution_count": null,
      "metadata": {
        "colab": {
          "base_uri": "https://localhost:8080/"
        },
        "id": "QkPJm82LgGZH",
        "outputId": "ab53ee9b-a543-47ad-9246-a21b9c0db8d6"
      },
      "outputs": [
        {
          "output_type": "stream",
          "name": "stdout",
          "text": [
            "(623, 5)\n",
            "A base de dados contém 5 observações com mais de 2 outliers\n"
          ]
        }
      ],
      "source": [
        "# Função para checar o número de outliers por registro\n",
        "def outlier_hunt(df):\n",
        "    outlier_indices = []\n",
        "\n",
        "    # itera sobre as features\n",
        "    for col in df.columns.tolist():\n",
        "        # primeiro quartil (25%)\n",
        "        Q1 = np.percentile(df[col], 25)\n",
        "\n",
        "        # terceiro quartil (75%)\n",
        "        Q3 = np.percentile(df[col],75)\n",
        "\n",
        "        # faixa interquartil\n",
        "        IQR = Q3 - Q1\n",
        "\n",
        "        outlier_step = 1.5 * IQR\n",
        "\n",
        "        # Determina uma lista de índices de outliers para coluna de recurso\n",
        "        outlier_list_col = df[(df[col] < Q1 - outlier_step) | (df[col] > Q3 + outlier_step )].index\n",
        "\n",
        "        # acrescenta os índices discrepantes encontrados para col à lista de índices discrepantes\n",
        "        outlier_indices.extend(outlier_list_col)\n",
        "\n",
        "    # selecionar observações contendo mais de 2 outliers\n",
        "    outlier_indices = Counter(outlier_indices)\n",
        "    multiple_outliers = list( k for k, v in outlier_indices.items() if v > 2 )\n",
        "\n",
        "    return multiple_outliers\n",
        "\n",
        "print(df_num.shape)\n",
        "print('A base de dados contém %d observações com mais de 2 outliers' %(len(outlier_hunt(df_num[list_numerical_data]))))"
      ]
    },
    {
      "cell_type": "code",
      "execution_count": null,
      "metadata": {
        "colab": {
          "base_uri": "https://localhost:8080/",
          "height": 885
        },
        "id": "XlkHm_MUgKia",
        "outputId": "afa652e7-5305-4fc8-93af-b3f4361cd5e3"
      },
      "outputs": [
        {
          "output_type": "display_data",
          "data": {
            "text/plain": [
              "<Figure size 2000x1400 with 1 Axes>"
            ],
            "image/png": "[encoded data removed]"
          },
          "metadata": {}
        }
      ],
      "source": [
        "# Boxplot das features numéricas\n",
        "plt.figure(figsize=(20,14))\n",
        "sns.boxplot(data=df_num[list_numerical_data])\n",
        "plt.show()"
      ]
    },
    {
      "cell_type": "code",
      "execution_count": null,
      "metadata": {
        "colab": {
          "base_uri": "https://localhost:8080/"
        },
        "id": "gInw4HoBgMlN",
        "outputId": "5f8b02c2-e0fd-4ac5-c645-624e0218a202"
      },
      "outputs": [
        {
          "output_type": "stream",
          "name": "stdout",
          "text": [
            "(618, 5)\n"
          ]
        }
      ],
      "source": [
        "# Remoção dos registros que contém mais de dois outliers\n",
        "outlier_indices = outlier_hunt(df_num[list_numerical_data])\n",
        "df_num = df_num.drop(outlier_indices).reset_index(drop=True)\n",
        "print(df_num.shape)"
      ]
    },
    {
      "cell_type": "code",
      "execution_count": null,
      "metadata": {
        "colab": {
          "base_uri": "https://localhost:8080/",
          "height": 143
        },
        "id": "6PQoDsd9YJpf",
        "outputId": "2a530b75-ccc9-4412-dd7f-6b67793fa0e1"
      },
      "outputs": [
        {
          "output_type": "execute_result",
          "data": {
            "text/plain": [
              "                Age       Fare     Parch     SibSp\n",
              "Survived                                          \n",
              "0         30.565359  23.103707  0.346939  0.517857\n",
              "1         28.684479  48.790566  0.441558  0.476190"
            ],
            "text/html": [
              "\n",
              "  <div id=\"df-0fc3a269-c2c5-4827-bb0a-7d0063216ac4\">\n",
              "    <div class=\"colab-df-container\">\n",
              "      <div>\n",
              "<style scoped>\n",
              "    .dataframe tbody tr th:only-of-type {\n",
              "        vertical-align: middle;\n",
              "    }\n",
              "\n",
              "    .dataframe tbody tr th {\n",
              "        vertical-align: top;\n",
              "    }\n",
              "\n",
              "    .dataframe thead th {\n",
              "        text-align: right;\n",
              "    }\n",
              "</style>\n",
              "<table border=\"1\" class=\"dataframe\">\n",
              "  <thead>\n",
              "    <tr style=\"text-align: right;\">\n",
              "      <th></th>\n",
              "      <th>Age</th>\n",
              "      <th>Fare</th>\n",
              "      <th>Parch</th>\n",
              "      <th>SibSp</th>\n",
              "    </tr>\n",
              "    <tr>\n",
              "      <th>Survived</th>\n",
              "      <th></th>\n",
              "      <th></th>\n",
              "      <th></th>\n",
              "      <th></th>\n",
              "    </tr>\n",
              "  </thead>\n",
              "  <tbody>\n",
              "    <tr>\n",
              "      <th>0</th>\n",
              "      <td>30.565359</td>\n",
              "      <td>23.103707</td>\n",
              "      <td>0.346939</td>\n",
              "      <td>0.517857</td>\n",
              "    </tr>\n",
              "    <tr>\n",
              "      <th>1</th>\n",
              "      <td>28.684479</td>\n",
              "      <td>48.790566</td>\n",
              "      <td>0.441558</td>\n",
              "      <td>0.476190</td>\n",
              "    </tr>\n",
              "  </tbody>\n",
              "</table>\n",
              "</div>\n",
              "      <button class=\"colab-df-convert\" onclick=\"convertToInteractive('df-0fc3a269-c2c5-4827-bb0a-7d0063216ac4')\"\n",
              "              title=\"Convert this dataframe to an interactive table.\"\n",
              "              style=\"display:none;\">\n",
              "        \n",
              "  <svg xmlns=\"http://www.w3.org/2000/svg\" height=\"24px\"viewBox=\"0 0 24 24\"\n",
              "       width=\"24px\">\n",
              "    <path d=\"M0 0h24v24H0V0z\" fill=\"none\"/>\n",
              "    <path d=\"M18.56 5.44l.94 2.06.94-2.06 2.06-.94-2.06-.94-.94-2.06-.94 2.06-2.06.94zm-11 1L8.5 8.5l.94-2.06 2.06-.94-2.06-.94L8.5 2.5l-.94 2.06-2.06.94zm10 10l.94 2.06.94-2.06 2.06-.94-2.06-.94-.94-2.06-.94 2.06-2.06.94z\"/><path d=\"M17.41 7.96l-1.37-1.37c-.4-.4-.92-.59-1.43-.59-.52 0-1.04.2-1.43.59L10.3 9.45l-7.72 7.72c-.78.78-.78 2.05 0 2.83L4 21.41c.39.39.9.59 1.41.59.51 0 1.02-.2 1.41-.59l7.78-7.78 2.81-2.81c.8-.78.8-2.07 0-2.86zM5.41 20L4 18.59l7.72-7.72 1.47 1.35L5.41 20z\"/>\n",
              "  </svg>\n",
              "      </button>\n",
              "      \n",
              "  <style>\n",
              "    .colab-df-container {\n",
              "      display:flex;\n",
              "      flex-wrap:wrap;\n",
              "      gap: 12px;\n",
              "    }\n",
              "\n",
              "    .colab-df-convert {\n",
              "      background-color: #E8F0FE;\n",
              "      border: none;\n",
              "      border-radius: 50%;\n",
              "      cursor: pointer;\n",
              "      display: none;\n",
              "      fill: #1967D2;\n",
              "      height: 32px;\n",
              "      padding: 0 0 0 0;\n",
              "      width: 32px;\n",
              "    }\n",
              "\n",
              "    .colab-df-convert:hover {\n",
              "      background-color: #E2EBFA;\n",
              "      box-shadow: 0px 1px 2px rgba(60, 64, 67, 0.3), 0px 1px 3px 1px rgba(60, 64, 67, 0.15);\n",
              "      fill: #174EA6;\n",
              "    }\n",
              "\n",
              "    [theme=dark] .colab-df-convert {\n",
              "      background-color: #3B4455;\n",
              "      fill: #D2E3FC;\n",
              "    }\n",
              "\n",
              "    [theme=dark] .colab-df-convert:hover {\n",
              "      background-color: #434B5C;\n",
              "      box-shadow: 0px 1px 3px 1px rgba(0, 0, 0, 0.15);\n",
              "      filter: drop-shadow(0px 1px 2px rgba(0, 0, 0, 0.3));\n",
              "      fill: #FFFFFF;\n",
              "    }\n",
              "  </style>\n",
              "\n",
              "      <script>\n",
              "        const buttonEl =\n",
              "          document.querySelector('#df-0fc3a269-c2c5-4827-bb0a-7d0063216ac4 button.colab-df-convert');\n",
              "        buttonEl.style.display =\n",
              "          google.colab.kernel.accessAllowed ? 'block' : 'none';\n",
              "\n",
              "        async function convertToInteractive(key) {\n",
              "          const element = document.querySelector('#df-0fc3a269-c2c5-4827-bb0a-7d0063216ac4');\n",
              "          const dataTable =\n",
              "            await google.colab.kernel.invokeFunction('convertToInteractive',\n",
              "                                                     [key], {});\n",
              "          if (!dataTable) return;\n",
              "\n",
              "          const docLinkHtml = 'Like what you see? Visit the ' +\n",
              "            '<a target=\"_blank\" href=https://colab.research.google.com/notebooks/data_table.ipynb>data table notebook</a>'\n",
              "            + ' to learn more about interactive tables.';\n",
              "          element.innerHTML = '';\n",
              "          dataTable['output_type'] = 'display_data';\n",
              "          await google.colab.output.renderOutput(dataTable, element);\n",
              "          const docLink = document.createElement('div');\n",
              "          docLink.innerHTML = docLinkHtml;\n",
              "          element.appendChild(docLink);\n",
              "        }\n",
              "      </script>\n",
              "    </div>\n",
              "  </div>\n",
              "  "
            ]
          },
          "metadata": {},
          "execution_count": 23
        }
      ],
      "source": [
        "# Compara a taxa de sobrevivência entre as features Age, SibSp, Parch, and Fare\n",
        "pd.pivot_table(dataset_train, index = 'Survived', values = ['Age','SibSp','Parch','Fare'])"
      ]
    },
    {
      "cell_type": "markdown",
      "metadata": {
        "id": "fVX4xKJ8_eaL"
      },
      "source": [
        "### 🔹 Exploração - Variáveis Categóricas"
      ]
    },
    {
      "cell_type": "code",
      "execution_count": null,
      "metadata": {
        "colab": {
          "base_uri": "https://localhost:8080/"
        },
        "id": "SoNsxz247pQx",
        "outputId": "9bec3060-4301-4867-b2c5-fd9b000d8079"
      },
      "outputs": [
        {
          "output_type": "stream",
          "name": "stdout",
          "text": [
            "(array(['female', 'male'], dtype=object), array([211, 412]))\n",
            "(array([0, 1]), array([211, 412]))\n"
          ]
        },
        {
          "output_type": "stream",
          "name": "stderr",
          "text": [
            "<ipython-input-24-802ad0b304d2>:3: SettingWithCopyWarning: \n",
            "A value is trying to be set on a copy of a slice from a DataFrame.\n",
            "Try using .loc[row_indexer,col_indexer] = value instead\n",
            "\n",
            "See the caveats in the documentation: https://pandas.pydata.org/pandas-docs/stable/user_guide/indexing.html#returning-a-view-versus-a-copy\n",
            "  df_cat['Sex'] = np.where(df_cat['Sex'] == 'male',1,0)\n"
          ]
        }
      ],
      "source": [
        "# Transformando a variável categórica 'sexo' para um valor binário\n",
        "print(np.unique(df_cat['Sex'],return_counts = True))\n",
        "df_cat['Sex'] = np.where(df_cat['Sex'] == 'male',1,0)\n",
        "print(np.unique(df_cat['Sex'],return_counts = True))\n"
      ]
    },
    {
      "cell_type": "markdown",
      "metadata": {
        "id": "-Yq5rrio9YuO"
      },
      "source": [
        "Comparando a taxa \"Survived\" com as outras variaveis categoricas"
      ]
    },
    {
      "cell_type": "code",
      "execution_count": null,
      "metadata": {
        "colab": {
          "base_uri": "https://localhost:8080/"
        },
        "id": "mwBZajgM9VqO",
        "outputId": "29f700fd-c2bb-4bb5-80e4-8e7d4c06f22c"
      },
      "outputs": [
        {
          "output_type": "execute_result",
          "data": {
            "text/plain": [
              "Pclass     1   2    3\n",
              "Survived             \n",
              "0         61  67  264\n",
              "1         92  60   79"
            ],
            "text/html": [
              "\n",
              "  <div id=\"df-c616ae54-9603-45d2-b200-56aaae799322\">\n",
              "    <div class=\"colab-df-container\">\n",
              "      <div>\n",
              "<style scoped>\n",
              "    .dataframe tbody tr th:only-of-type {\n",
              "        vertical-align: middle;\n",
              "    }\n",
              "\n",
              "    .dataframe tbody tr th {\n",
              "        vertical-align: top;\n",
              "    }\n",
              "\n",
              "    .dataframe thead th {\n",
              "        text-align: right;\n",
              "    }\n",
              "</style>\n",
              "<table border=\"1\" class=\"dataframe\">\n",
              "  <thead>\n",
              "    <tr style=\"text-align: right;\">\n",
              "      <th>Pclass</th>\n",
              "      <th>1</th>\n",
              "      <th>2</th>\n",
              "      <th>3</th>\n",
              "    </tr>\n",
              "    <tr>\n",
              "      <th>Survived</th>\n",
              "      <th></th>\n",
              "      <th></th>\n",
              "      <th></th>\n",
              "    </tr>\n",
              "  </thead>\n",
              "  <tbody>\n",
              "    <tr>\n",
              "      <th>0</th>\n",
              "      <td>61</td>\n",
              "      <td>67</td>\n",
              "      <td>264</td>\n",
              "    </tr>\n",
              "    <tr>\n",
              "      <th>1</th>\n",
              "      <td>92</td>\n",
              "      <td>60</td>\n",
              "      <td>79</td>\n",
              "    </tr>\n",
              "  </tbody>\n",
              "</table>\n",
              "</div>\n",
              "      <button class=\"colab-df-convert\" onclick=\"convertToInteractive('df-c616ae54-9603-45d2-b200-56aaae799322')\"\n",
              "              title=\"Convert this dataframe to an interactive table.\"\n",
              "              style=\"display:none;\">\n",
              "        \n",
              "  <svg xmlns=\"http://www.w3.org/2000/svg\" height=\"24px\"viewBox=\"0 0 24 24\"\n",
              "       width=\"24px\">\n",
              "    <path d=\"M0 0h24v24H0V0z\" fill=\"none\"/>\n",
              "    <path d=\"M18.56 5.44l.94 2.06.94-2.06 2.06-.94-2.06-.94-.94-2.06-.94 2.06-2.06.94zm-11 1L8.5 8.5l.94-2.06 2.06-.94-2.06-.94L8.5 2.5l-.94 2.06-2.06.94zm10 10l.94 2.06.94-2.06 2.06-.94-2.06-.94-.94-2.06-.94 2.06-2.06.94z\"/><path d=\"M17.41 7.96l-1.37-1.37c-.4-.4-.92-.59-1.43-.59-.52 0-1.04.2-1.43.59L10.3 9.45l-7.72 7.72c-.78.78-.78 2.05 0 2.83L4 21.41c.39.39.9.59 1.41.59.51 0 1.02-.2 1.41-.59l7.78-7.78 2.81-2.81c.8-.78.8-2.07 0-2.86zM5.41 20L4 18.59l7.72-7.72 1.47 1.35L5.41 20z\"/>\n",
              "  </svg>\n",
              "      </button>\n",
              "      \n",
              "  <style>\n",
              "    .colab-df-container {\n",
              "      display:flex;\n",
              "      flex-wrap:wrap;\n",
              "      gap: 12px;\n",
              "    }\n",
              "\n",
              "    .colab-df-convert {\n",
              "      background-color: #E8F0FE;\n",
              "      border: none;\n",
              "      border-radius: 50%;\n",
              "      cursor: pointer;\n",
              "      display: none;\n",
              "      fill: #1967D2;\n",
              "      height: 32px;\n",
              "      padding: 0 0 0 0;\n",
              "      width: 32px;\n",
              "    }\n",
              "\n",
              "    .colab-df-convert:hover {\n",
              "      background-color: #E2EBFA;\n",
              "      box-shadow: 0px 1px 2px rgba(60, 64, 67, 0.3), 0px 1px 3px 1px rgba(60, 64, 67, 0.15);\n",
              "      fill: #174EA6;\n",
              "    }\n",
              "\n",
              "    [theme=dark] .colab-df-convert {\n",
              "      background-color: #3B4455;\n",
              "      fill: #D2E3FC;\n",
              "    }\n",
              "\n",
              "    [theme=dark] .colab-df-convert:hover {\n",
              "      background-color: #434B5C;\n",
              "      box-shadow: 0px 1px 3px 1px rgba(0, 0, 0, 0.15);\n",
              "      filter: drop-shadow(0px 1px 2px rgba(0, 0, 0, 0.3));\n",
              "      fill: #FFFFFF;\n",
              "    }\n",
              "  </style>\n",
              "\n",
              "      <script>\n",
              "        const buttonEl =\n",
              "          document.querySelector('#df-c616ae54-9603-45d2-b200-56aaae799322 button.colab-df-convert');\n",
              "        buttonEl.style.display =\n",
              "          google.colab.kernel.accessAllowed ? 'block' : 'none';\n",
              "\n",
              "        async function convertToInteractive(key) {\n",
              "          const element = document.querySelector('#df-c616ae54-9603-45d2-b200-56aaae799322');\n",
              "          const dataTable =\n",
              "            await google.colab.kernel.invokeFunction('convertToInteractive',\n",
              "                                                     [key], {});\n",
              "          if (!dataTable) return;\n",
              "\n",
              "          const docLinkHtml = 'Like what you see? Visit the ' +\n",
              "            '<a target=\"_blank\" href=https://colab.research.google.com/notebooks/data_table.ipynb>data table notebook</a>'\n",
              "            + ' to learn more about interactive tables.';\n",
              "          element.innerHTML = '';\n",
              "          dataTable['output_type'] = 'display_data';\n",
              "          await google.colab.output.renderOutput(dataTable, element);\n",
              "          const docLink = document.createElement('div');\n",
              "          docLink.innerHTML = docLinkHtml;\n",
              "          element.appendChild(docLink);\n",
              "        }\n",
              "      </script>\n",
              "    </div>\n",
              "  </div>\n",
              "  "
            ]
          },
          "metadata": {},
          "execution_count": 25
        }
      ],
      "source": [
        "# Gera uma tabela dinâmica onde as linhas são os sobreviventes e as colunas são pertencentes\n",
        "# a variável Pclass, sendo a ocorrência de tickets o valor dos registros\n",
        "pd.pivot_table(dataset_train, index = 'Survived', columns = 'Pclass', values = 'Ticket' ,aggfunc ='count')\n"
      ]
    },
    {
      "cell_type": "code",
      "execution_count": null,
      "metadata": {
        "colab": {
          "base_uri": "https://localhost:8080/"
        },
        "id": "v5zraSwg9W-d",
        "outputId": "72c4e5ce-4055-4012-9084-3116cfefccdb"
      },
      "outputs": [
        {
          "output_type": "execute_result",
          "data": {
            "text/plain": [
              "Sex       female  male\n",
              "Survived              \n",
              "0             52   340\n",
              "1            159    72"
            ],
            "text/html": [
              "\n",
              "  <div id=\"df-7912ed27-f1ef-4f2d-8823-74c23fc2d96b\">\n",
              "    <div class=\"colab-df-container\">\n",
              "      <div>\n",
              "<style scoped>\n",
              "    .dataframe tbody tr th:only-of-type {\n",
              "        vertical-align: middle;\n",
              "    }\n",
              "\n",
              "    .dataframe tbody tr th {\n",
              "        vertical-align: top;\n",
              "    }\n",
              "\n",
              "    .dataframe thead th {\n",
              "        text-align: right;\n",
              "    }\n",
              "</style>\n",
              "<table border=\"1\" class=\"dataframe\">\n",
              "  <thead>\n",
              "    <tr style=\"text-align: right;\">\n",
              "      <th>Sex</th>\n",
              "      <th>female</th>\n",
              "      <th>male</th>\n",
              "    </tr>\n",
              "    <tr>\n",
              "      <th>Survived</th>\n",
              "      <th></th>\n",
              "      <th></th>\n",
              "    </tr>\n",
              "  </thead>\n",
              "  <tbody>\n",
              "    <tr>\n",
              "      <th>0</th>\n",
              "      <td>52</td>\n",
              "      <td>340</td>\n",
              "    </tr>\n",
              "    <tr>\n",
              "      <th>1</th>\n",
              "      <td>159</td>\n",
              "      <td>72</td>\n",
              "    </tr>\n",
              "  </tbody>\n",
              "</table>\n",
              "</div>\n",
              "      <button class=\"colab-df-convert\" onclick=\"convertToInteractive('df-7912ed27-f1ef-4f2d-8823-74c23fc2d96b')\"\n",
              "              title=\"Convert this dataframe to an interactive table.\"\n",
              "              style=\"display:none;\">\n",
              "        \n",
              "  <svg xmlns=\"http://www.w3.org/2000/svg\" height=\"24px\"viewBox=\"0 0 24 24\"\n",
              "       width=\"24px\">\n",
              "    <path d=\"M0 0h24v24H0V0z\" fill=\"none\"/>\n",
              "    <path d=\"M18.56 5.44l.94 2.06.94-2.06 2.06-.94-2.06-.94-.94-2.06-.94 2.06-2.06.94zm-11 1L8.5 8.5l.94-2.06 2.06-.94-2.06-.94L8.5 2.5l-.94 2.06-2.06.94zm10 10l.94 2.06.94-2.06 2.06-.94-2.06-.94-.94-2.06-.94 2.06-2.06.94z\"/><path d=\"M17.41 7.96l-1.37-1.37c-.4-.4-.92-.59-1.43-.59-.52 0-1.04.2-1.43.59L10.3 9.45l-7.72 7.72c-.78.78-.78 2.05 0 2.83L4 21.41c.39.39.9.59 1.41.59.51 0 1.02-.2 1.41-.59l7.78-7.78 2.81-2.81c.8-.78.8-2.07 0-2.86zM5.41 20L4 18.59l7.72-7.72 1.47 1.35L5.41 20z\"/>\n",
              "  </svg>\n",
              "      </button>\n",
              "      \n",
              "  <style>\n",
              "    .colab-df-container {\n",
              "      display:flex;\n",
              "      flex-wrap:wrap;\n",
              "      gap: 12px;\n",
              "    }\n",
              "\n",
              "    .colab-df-convert {\n",
              "      background-color: #E8F0FE;\n",
              "      border: none;\n",
              "      border-radius: 50%;\n",
              "      cursor: pointer;\n",
              "      display: none;\n",
              "      fill: #1967D2;\n",
              "      height: 32px;\n",
              "      padding: 0 0 0 0;\n",
              "      width: 32px;\n",
              "    }\n",
              "\n",
              "    .colab-df-convert:hover {\n",
              "      background-color: #E2EBFA;\n",
              "      box-shadow: 0px 1px 2px rgba(60, 64, 67, 0.3), 0px 1px 3px 1px rgba(60, 64, 67, 0.15);\n",
              "      fill: #174EA6;\n",
              "    }\n",
              "\n",
              "    [theme=dark] .colab-df-convert {\n",
              "      background-color: #3B4455;\n",
              "      fill: #D2E3FC;\n",
              "    }\n",
              "\n",
              "    [theme=dark] .colab-df-convert:hover {\n",
              "      background-color: #434B5C;\n",
              "      box-shadow: 0px 1px 3px 1px rgba(0, 0, 0, 0.15);\n",
              "      filter: drop-shadow(0px 1px 2px rgba(0, 0, 0, 0.3));\n",
              "      fill: #FFFFFF;\n",
              "    }\n",
              "  </style>\n",
              "\n",
              "      <script>\n",
              "        const buttonEl =\n",
              "          document.querySelector('#df-7912ed27-f1ef-4f2d-8823-74c23fc2d96b button.colab-df-convert');\n",
              "        buttonEl.style.display =\n",
              "          google.colab.kernel.accessAllowed ? 'block' : 'none';\n",
              "\n",
              "        async function convertToInteractive(key) {\n",
              "          const element = document.querySelector('#df-7912ed27-f1ef-4f2d-8823-74c23fc2d96b');\n",
              "          const dataTable =\n",
              "            await google.colab.kernel.invokeFunction('convertToInteractive',\n",
              "                                                     [key], {});\n",
              "          if (!dataTable) return;\n",
              "\n",
              "          const docLinkHtml = 'Like what you see? Visit the ' +\n",
              "            '<a target=\"_blank\" href=https://colab.research.google.com/notebooks/data_table.ipynb>data table notebook</a>'\n",
              "            + ' to learn more about interactive tables.';\n",
              "          element.innerHTML = '';\n",
              "          dataTable['output_type'] = 'display_data';\n",
              "          await google.colab.output.renderOutput(dataTable, element);\n",
              "          const docLink = document.createElement('div');\n",
              "          docLink.innerHTML = docLinkHtml;\n",
              "          element.appendChild(docLink);\n",
              "        }\n",
              "      </script>\n",
              "    </div>\n",
              "  </div>\n",
              "  "
            ]
          },
          "metadata": {},
          "execution_count": 26
        }
      ],
      "source": [
        "# Gera uma tabela dinâmica onde as linhas são os sobreviventes e as colunas são pertencentes\n",
        "# a variável Sex, sendo a ocorrência de tickets o valor dos registros\n",
        "pd.pivot_table(dataset_train, index = 'Survived', columns = 'Sex', values = 'Ticket' ,aggfunc ='count')\n"
      ]
    },
    {
      "cell_type": "code",
      "execution_count": null,
      "metadata": {
        "colab": {
          "base_uri": "https://localhost:8080/"
        },
        "id": "dM6ULh6vYJpg",
        "outputId": "5c84fed5-dba9-4814-d8ed-e2e6f76e831d"
      },
      "outputs": [
        {
          "output_type": "execute_result",
          "data": {
            "text/plain": [
              "Embarked   C   Q    S\n",
              "Survived             \n",
              "0         49  33  310\n",
              "1         64  24  142"
            ],
            "text/html": [
              "\n",
              "  <div id=\"df-44e0557c-9b18-4144-9542-e7977243766c\">\n",
              "    <div class=\"colab-df-container\">\n",
              "      <div>\n",
              "<style scoped>\n",
              "    .dataframe tbody tr th:only-of-type {\n",
              "        vertical-align: middle;\n",
              "    }\n",
              "\n",
              "    .dataframe tbody tr th {\n",
              "        vertical-align: top;\n",
              "    }\n",
              "\n",
              "    .dataframe thead th {\n",
              "        text-align: right;\n",
              "    }\n",
              "</style>\n",
              "<table border=\"1\" class=\"dataframe\">\n",
              "  <thead>\n",
              "    <tr style=\"text-align: right;\">\n",
              "      <th>Embarked</th>\n",
              "      <th>C</th>\n",
              "      <th>Q</th>\n",
              "      <th>S</th>\n",
              "    </tr>\n",
              "    <tr>\n",
              "      <th>Survived</th>\n",
              "      <th></th>\n",
              "      <th></th>\n",
              "      <th></th>\n",
              "    </tr>\n",
              "  </thead>\n",
              "  <tbody>\n",
              "    <tr>\n",
              "      <th>0</th>\n",
              "      <td>49</td>\n",
              "      <td>33</td>\n",
              "      <td>310</td>\n",
              "    </tr>\n",
              "    <tr>\n",
              "      <th>1</th>\n",
              "      <td>64</td>\n",
              "      <td>24</td>\n",
              "      <td>142</td>\n",
              "    </tr>\n",
              "  </tbody>\n",
              "</table>\n",
              "</div>\n",
              "      <button class=\"colab-df-convert\" onclick=\"convertToInteractive('df-44e0557c-9b18-4144-9542-e7977243766c')\"\n",
              "              title=\"Convert this dataframe to an interactive table.\"\n",
              "              style=\"display:none;\">\n",
              "        \n",
              "  <svg xmlns=\"http://www.w3.org/2000/svg\" height=\"24px\"viewBox=\"0 0 24 24\"\n",
              "       width=\"24px\">\n",
              "    <path d=\"M0 0h24v24H0V0z\" fill=\"none\"/>\n",
              "    <path d=\"M18.56 5.44l.94 2.06.94-2.06 2.06-.94-2.06-.94-.94-2.06-.94 2.06-2.06.94zm-11 1L8.5 8.5l.94-2.06 2.06-.94-2.06-.94L8.5 2.5l-.94 2.06-2.06.94zm10 10l.94 2.06.94-2.06 2.06-.94-2.06-.94-.94-2.06-.94 2.06-2.06.94z\"/><path d=\"M17.41 7.96l-1.37-1.37c-.4-.4-.92-.59-1.43-.59-.52 0-1.04.2-1.43.59L10.3 9.45l-7.72 7.72c-.78.78-.78 2.05 0 2.83L4 21.41c.39.39.9.59 1.41.59.51 0 1.02-.2 1.41-.59l7.78-7.78 2.81-2.81c.8-.78.8-2.07 0-2.86zM5.41 20L4 18.59l7.72-7.72 1.47 1.35L5.41 20z\"/>\n",
              "  </svg>\n",
              "      </button>\n",
              "      \n",
              "  <style>\n",
              "    .colab-df-container {\n",
              "      display:flex;\n",
              "      flex-wrap:wrap;\n",
              "      gap: 12px;\n",
              "    }\n",
              "\n",
              "    .colab-df-convert {\n",
              "      background-color: #E8F0FE;\n",
              "      border: none;\n",
              "      border-radius: 50%;\n",
              "      cursor: pointer;\n",
              "      display: none;\n",
              "      fill: #1967D2;\n",
              "      height: 32px;\n",
              "      padding: 0 0 0 0;\n",
              "      width: 32px;\n",
              "    }\n",
              "\n",
              "    .colab-df-convert:hover {\n",
              "      background-color: #E2EBFA;\n",
              "      box-shadow: 0px 1px 2px rgba(60, 64, 67, 0.3), 0px 1px 3px 1px rgba(60, 64, 67, 0.15);\n",
              "      fill: #174EA6;\n",
              "    }\n",
              "\n",
              "    [theme=dark] .colab-df-convert {\n",
              "      background-color: #3B4455;\n",
              "      fill: #D2E3FC;\n",
              "    }\n",
              "\n",
              "    [theme=dark] .colab-df-convert:hover {\n",
              "      background-color: #434B5C;\n",
              "      box-shadow: 0px 1px 3px 1px rgba(0, 0, 0, 0.15);\n",
              "      filter: drop-shadow(0px 1px 2px rgba(0, 0, 0, 0.3));\n",
              "      fill: #FFFFFF;\n",
              "    }\n",
              "  </style>\n",
              "\n",
              "      <script>\n",
              "        const buttonEl =\n",
              "          document.querySelector('#df-44e0557c-9b18-4144-9542-e7977243766c button.colab-df-convert');\n",
              "        buttonEl.style.display =\n",
              "          google.colab.kernel.accessAllowed ? 'block' : 'none';\n",
              "\n",
              "        async function convertToInteractive(key) {\n",
              "          const element = document.querySelector('#df-44e0557c-9b18-4144-9542-e7977243766c');\n",
              "          const dataTable =\n",
              "            await google.colab.kernel.invokeFunction('convertToInteractive',\n",
              "                                                     [key], {});\n",
              "          if (!dataTable) return;\n",
              "\n",
              "          const docLinkHtml = 'Like what you see? Visit the ' +\n",
              "            '<a target=\"_blank\" href=https://colab.research.google.com/notebooks/data_table.ipynb>data table notebook</a>'\n",
              "            + ' to learn more about interactive tables.';\n",
              "          element.innerHTML = '';\n",
              "          dataTable['output_type'] = 'display_data';\n",
              "          await google.colab.output.renderOutput(dataTable, element);\n",
              "          const docLink = document.createElement('div');\n",
              "          docLink.innerHTML = docLinkHtml;\n",
              "          element.appendChild(docLink);\n",
              "        }\n",
              "      </script>\n",
              "    </div>\n",
              "  </div>\n",
              "  "
            ]
          },
          "metadata": {},
          "execution_count": 27
        }
      ],
      "source": [
        "# Gera uma tabela dinâmica onde as linhas são os sobreviventes e as colunas são pertencentes\n",
        "# a variável Embarked, sendo a ocorrência de tickets o valor dos registros\n",
        "pd.pivot_table(dataset_train, index = 'Survived', columns = 'Embarked', values = 'Ticket' ,aggfunc ='count')"
      ]
    },
    {
      "cell_type": "markdown",
      "metadata": {
        "id": "xpNhBKkxYJpg"
      },
      "source": [
        "## Feature Engineering\n",
        "### 1) Cabin - Simplify cabins (evaluated if cabin letter (cabin_adv) or the purchase of tickets across multiple cabins (cabin_multiple) impacted survival)\n",
        "\n",
        "### 2) Tickets - Diferentes tipos de tickets podem alterar a taxa de sobrevivencia?\n",
        "\n",
        "### 3) O \"Tittle\" de uma pessoa se relaciona com sua taxa de sobrevivencia?"
      ]
    },
    {
      "cell_type": "code",
      "execution_count": null,
      "metadata": {
        "colab": {
          "base_uri": "https://localhost:8080/"
        },
        "id": "F9JGimZZYJpg",
        "outputId": "e31ff96e-1013-4063-d0fc-36d9b6b793b6"
      },
      "outputs": [
        {
          "output_type": "execute_result",
          "data": {
            "text/plain": [
              "0    477\n",
              "1    128\n",
              "2     13\n",
              "3      4\n",
              "4      1\n",
              "Name: cabin_multiple, dtype: int64"
            ]
          },
          "metadata": {},
          "execution_count": 28
        }
      ],
      "source": [
        "#Cria uma nova coluna chamada \"cabin_multiple\" e preenche com a contagem do número de cabines associadas a cada registro na coluna \"Cabin\" do DataFrame \"df_cat\".\n",
        "df_cat.Cabin\n",
        "dataset_train['cabin_multiple'] = dataset_train.Cabin.apply(lambda x: 0 if pd.isna(x) else len(x.split(' ')))\n",
        "# Podemos querer ver a cabine por letra ou por número. Vamos criar algumas categorias\n",
        "# letters\n",
        "# multiple letters\n",
        "dataset_train['cabin_multiple'].value_counts()"
      ]
    },
    {
      "cell_type": "code",
      "execution_count": null,
      "metadata": {
        "colab": {
          "base_uri": "https://localhost:8080/"
        },
        "id": "WM3kTiqBYJpg",
        "outputId": "87b7a6eb-93f2-41cf-f2aa-852fd43f7972"
      },
      "outputs": [
        {
          "output_type": "execute_result",
          "data": {
            "text/plain": [
              "cabin_multiple      0     1    2    3    4\n",
              "Survived                                  \n",
              "0               339.0  45.0  5.0  3.0  NaN\n",
              "1               138.0  83.0  8.0  1.0  1.0"
            ],
            "text/html": [
              "\n",
              "  <div id=\"df-b3fa91c5-eff8-46d6-99aa-00d9408fcaa3\">\n",
              "    <div class=\"colab-df-container\">\n",
              "      <div>\n",
              "<style scoped>\n",
              "    .dataframe tbody tr th:only-of-type {\n",
              "        vertical-align: middle;\n",
              "    }\n",
              "\n",
              "    .dataframe tbody tr th {\n",
              "        vertical-align: top;\n",
              "    }\n",
              "\n",
              "    .dataframe thead th {\n",
              "        text-align: right;\n",
              "    }\n",
              "</style>\n",
              "<table border=\"1\" class=\"dataframe\">\n",
              "  <thead>\n",
              "    <tr style=\"text-align: right;\">\n",
              "      <th>cabin_multiple</th>\n",
              "      <th>0</th>\n",
              "      <th>1</th>\n",
              "      <th>2</th>\n",
              "      <th>3</th>\n",
              "      <th>4</th>\n",
              "    </tr>\n",
              "    <tr>\n",
              "      <th>Survived</th>\n",
              "      <th></th>\n",
              "      <th></th>\n",
              "      <th></th>\n",
              "      <th></th>\n",
              "      <th></th>\n",
              "    </tr>\n",
              "  </thead>\n",
              "  <tbody>\n",
              "    <tr>\n",
              "      <th>0</th>\n",
              "      <td>339.0</td>\n",
              "      <td>45.0</td>\n",
              "      <td>5.0</td>\n",
              "      <td>3.0</td>\n",
              "      <td>NaN</td>\n",
              "    </tr>\n",
              "    <tr>\n",
              "      <th>1</th>\n",
              "      <td>138.0</td>\n",
              "      <td>83.0</td>\n",
              "      <td>8.0</td>\n",
              "      <td>1.0</td>\n",
              "      <td>1.0</td>\n",
              "    </tr>\n",
              "  </tbody>\n",
              "</table>\n",
              "</div>\n",
              "      <button class=\"colab-df-convert\" onclick=\"convertToInteractive('df-b3fa91c5-eff8-46d6-99aa-00d9408fcaa3')\"\n",
              "              title=\"Convert this dataframe to an interactive table.\"\n",
              "              style=\"display:none;\">\n",
              "        \n",
              "  <svg xmlns=\"http://www.w3.org/2000/svg\" height=\"24px\"viewBox=\"0 0 24 24\"\n",
              "       width=\"24px\">\n",
              "    <path d=\"M0 0h24v24H0V0z\" fill=\"none\"/>\n",
              "    <path d=\"M18.56 5.44l.94 2.06.94-2.06 2.06-.94-2.06-.94-.94-2.06-.94 2.06-2.06.94zm-11 1L8.5 8.5l.94-2.06 2.06-.94-2.06-.94L8.5 2.5l-.94 2.06-2.06.94zm10 10l.94 2.06.94-2.06 2.06-.94-2.06-.94-.94-2.06-.94 2.06-2.06.94z\"/><path d=\"M17.41 7.96l-1.37-1.37c-.4-.4-.92-.59-1.43-.59-.52 0-1.04.2-1.43.59L10.3 9.45l-7.72 7.72c-.78.78-.78 2.05 0 2.83L4 21.41c.39.39.9.59 1.41.59.51 0 1.02-.2 1.41-.59l7.78-7.78 2.81-2.81c.8-.78.8-2.07 0-2.86zM5.41 20L4 18.59l7.72-7.72 1.47 1.35L5.41 20z\"/>\n",
              "  </svg>\n",
              "      </button>\n",
              "      \n",
              "  <style>\n",
              "    .colab-df-container {\n",
              "      display:flex;\n",
              "      flex-wrap:wrap;\n",
              "      gap: 12px;\n",
              "    }\n",
              "\n",
              "    .colab-df-convert {\n",
              "      background-color: #E8F0FE;\n",
              "      border: none;\n",
              "      border-radius: 50%;\n",
              "      cursor: pointer;\n",
              "      display: none;\n",
              "      fill: #1967D2;\n",
              "      height: 32px;\n",
              "      padding: 0 0 0 0;\n",
              "      width: 32px;\n",
              "    }\n",
              "\n",
              "    .colab-df-convert:hover {\n",
              "      background-color: #E2EBFA;\n",
              "      box-shadow: 0px 1px 2px rgba(60, 64, 67, 0.3), 0px 1px 3px 1px rgba(60, 64, 67, 0.15);\n",
              "      fill: #174EA6;\n",
              "    }\n",
              "\n",
              "    [theme=dark] .colab-df-convert {\n",
              "      background-color: #3B4455;\n",
              "      fill: #D2E3FC;\n",
              "    }\n",
              "\n",
              "    [theme=dark] .colab-df-convert:hover {\n",
              "      background-color: #434B5C;\n",
              "      box-shadow: 0px 1px 3px 1px rgba(0, 0, 0, 0.15);\n",
              "      filter: drop-shadow(0px 1px 2px rgba(0, 0, 0, 0.3));\n",
              "      fill: #FFFFFF;\n",
              "    }\n",
              "  </style>\n",
              "\n",
              "      <script>\n",
              "        const buttonEl =\n",
              "          document.querySelector('#df-b3fa91c5-eff8-46d6-99aa-00d9408fcaa3 button.colab-df-convert');\n",
              "        buttonEl.style.display =\n",
              "          google.colab.kernel.accessAllowed ? 'block' : 'none';\n",
              "\n",
              "        async function convertToInteractive(key) {\n",
              "          const element = document.querySelector('#df-b3fa91c5-eff8-46d6-99aa-00d9408fcaa3');\n",
              "          const dataTable =\n",
              "            await google.colab.kernel.invokeFunction('convertToInteractive',\n",
              "                                                     [key], {});\n",
              "          if (!dataTable) return;\n",
              "\n",
              "          const docLinkHtml = 'Like what you see? Visit the ' +\n",
              "            '<a target=\"_blank\" href=https://colab.research.google.com/notebooks/data_table.ipynb>data table notebook</a>'\n",
              "            + ' to learn more about interactive tables.';\n",
              "          element.innerHTML = '';\n",
              "          dataTable['output_type'] = 'display_data';\n",
              "          await google.colab.output.renderOutput(dataTable, element);\n",
              "          const docLink = document.createElement('div');\n",
              "          docLink.innerHTML = docLinkHtml;\n",
              "          element.appendChild(docLink);\n",
              "        }\n",
              "      </script>\n",
              "    </div>\n",
              "  </div>\n",
              "  "
            ]
          },
          "metadata": {},
          "execution_count": 29
        }
      ],
      "source": [
        "# Gera uma tabela dinâmica onde as linhas são os sobreviventes e as colunas são pertencentes\n",
        "# a variável cabin_multiple, sendo a ocorrência de tickets o valor dos registros\n",
        "pd.pivot_table(dataset_train, index = 'Survived', columns = 'cabin_multiple', values = 'Ticket' ,aggfunc ='count')"
      ]
    },
    {
      "cell_type": "code",
      "execution_count": null,
      "metadata": {
        "id": "AmeHAz5wYJph"
      },
      "outputs": [],
      "source": [
        "# Cria categorias baseado na carta da cabine (n significa nulo)\n",
        "# Nesse caso iremos tratar valores nulos como categoria própria\n",
        "\n",
        "dataset_train['cabin_adv'] = dataset_train.Cabin.apply(lambda x: str(x)[0])\n"
      ]
    },
    {
      "cell_type": "code",
      "execution_count": null,
      "metadata": {
        "colab": {
          "base_uri": "https://localhost:8080/"
        },
        "id": "7wssUk0R-f2P",
        "outputId": "5c10fdde-df08-4bfb-8ee6-b922e372cd6c"
      },
      "outputs": [
        {
          "output_type": "stream",
          "name": "stdout",
          "text": [
            "n    477\n",
            "C     47\n",
            "B     30\n",
            "E     26\n",
            "D     21\n",
            "F      9\n",
            "A      9\n",
            "G      4\n",
            "Name: cabin_adv, dtype: int64\n"
          ]
        },
        {
          "output_type": "execute_result",
          "data": {
            "text/plain": [
              "cabin_adv  A   B   C   D   E  F  G    n\n",
              "Survived                               \n",
              "0          5   8  19   8   8  3  2  339\n",
              "1          4  22  28  13  18  6  2  138"
            ],
            "text/html": [
              "\n",
              "  <div id=\"df-8cd68ff1-55bd-43e1-90cf-e5b0d6f2e9bc\">\n",
              "    <div class=\"colab-df-container\">\n",
              "      <div>\n",
              "<style scoped>\n",
              "    .dataframe tbody tr th:only-of-type {\n",
              "        vertical-align: middle;\n",
              "    }\n",
              "\n",
              "    .dataframe tbody tr th {\n",
              "        vertical-align: top;\n",
              "    }\n",
              "\n",
              "    .dataframe thead th {\n",
              "        text-align: right;\n",
              "    }\n",
              "</style>\n",
              "<table border=\"1\" class=\"dataframe\">\n",
              "  <thead>\n",
              "    <tr style=\"text-align: right;\">\n",
              "      <th>cabin_adv</th>\n",
              "      <th>A</th>\n",
              "      <th>B</th>\n",
              "      <th>C</th>\n",
              "      <th>D</th>\n",
              "      <th>E</th>\n",
              "      <th>F</th>\n",
              "      <th>G</th>\n",
              "      <th>n</th>\n",
              "    </tr>\n",
              "    <tr>\n",
              "      <th>Survived</th>\n",
              "      <th></th>\n",
              "      <th></th>\n",
              "      <th></th>\n",
              "      <th></th>\n",
              "      <th></th>\n",
              "      <th></th>\n",
              "      <th></th>\n",
              "      <th></th>\n",
              "    </tr>\n",
              "  </thead>\n",
              "  <tbody>\n",
              "    <tr>\n",
              "      <th>0</th>\n",
              "      <td>5</td>\n",
              "      <td>8</td>\n",
              "      <td>19</td>\n",
              "      <td>8</td>\n",
              "      <td>8</td>\n",
              "      <td>3</td>\n",
              "      <td>2</td>\n",
              "      <td>339</td>\n",
              "    </tr>\n",
              "    <tr>\n",
              "      <th>1</th>\n",
              "      <td>4</td>\n",
              "      <td>22</td>\n",
              "      <td>28</td>\n",
              "      <td>13</td>\n",
              "      <td>18</td>\n",
              "      <td>6</td>\n",
              "      <td>2</td>\n",
              "      <td>138</td>\n",
              "    </tr>\n",
              "  </tbody>\n",
              "</table>\n",
              "</div>\n",
              "      <button class=\"colab-df-convert\" onclick=\"convertToInteractive('df-8cd68ff1-55bd-43e1-90cf-e5b0d6f2e9bc')\"\n",
              "              title=\"Convert this dataframe to an interactive table.\"\n",
              "              style=\"display:none;\">\n",
              "        \n",
              "  <svg xmlns=\"http://www.w3.org/2000/svg\" height=\"24px\"viewBox=\"0 0 24 24\"\n",
              "       width=\"24px\">\n",
              "    <path d=\"M0 0h24v24H0V0z\" fill=\"none\"/>\n",
              "    <path d=\"M18.56 5.44l.94 2.06.94-2.06 2.06-.94-2.06-.94-.94-2.06-.94 2.06-2.06.94zm-11 1L8.5 8.5l.94-2.06 2.06-.94-2.06-.94L8.5 2.5l-.94 2.06-2.06.94zm10 10l.94 2.06.94-2.06 2.06-.94-2.06-.94-.94-2.06-.94 2.06-2.06.94z\"/><path d=\"M17.41 7.96l-1.37-1.37c-.4-.4-.92-.59-1.43-.59-.52 0-1.04.2-1.43.59L10.3 9.45l-7.72 7.72c-.78.78-.78 2.05 0 2.83L4 21.41c.39.39.9.59 1.41.59.51 0 1.02-.2 1.41-.59l7.78-7.78 2.81-2.81c.8-.78.8-2.07 0-2.86zM5.41 20L4 18.59l7.72-7.72 1.47 1.35L5.41 20z\"/>\n",
              "  </svg>\n",
              "      </button>\n",
              "      \n",
              "  <style>\n",
              "    .colab-df-container {\n",
              "      display:flex;\n",
              "      flex-wrap:wrap;\n",
              "      gap: 12px;\n",
              "    }\n",
              "\n",
              "    .colab-df-convert {\n",
              "      background-color: #E8F0FE;\n",
              "      border: none;\n",
              "      border-radius: 50%;\n",
              "      cursor: pointer;\n",
              "      display: none;\n",
              "      fill: #1967D2;\n",
              "      height: 32px;\n",
              "      padding: 0 0 0 0;\n",
              "      width: 32px;\n",
              "    }\n",
              "\n",
              "    .colab-df-convert:hover {\n",
              "      background-color: #E2EBFA;\n",
              "      box-shadow: 0px 1px 2px rgba(60, 64, 67, 0.3), 0px 1px 3px 1px rgba(60, 64, 67, 0.15);\n",
              "      fill: #174EA6;\n",
              "    }\n",
              "\n",
              "    [theme=dark] .colab-df-convert {\n",
              "      background-color: #3B4455;\n",
              "      fill: #D2E3FC;\n",
              "    }\n",
              "\n",
              "    [theme=dark] .colab-df-convert:hover {\n",
              "      background-color: #434B5C;\n",
              "      box-shadow: 0px 1px 3px 1px rgba(0, 0, 0, 0.15);\n",
              "      filter: drop-shadow(0px 1px 2px rgba(0, 0, 0, 0.3));\n",
              "      fill: #FFFFFF;\n",
              "    }\n",
              "  </style>\n",
              "\n",
              "      <script>\n",
              "        const buttonEl =\n",
              "          document.querySelector('#df-8cd68ff1-55bd-43e1-90cf-e5b0d6f2e9bc button.colab-df-convert');\n",
              "        buttonEl.style.display =\n",
              "          google.colab.kernel.accessAllowed ? 'block' : 'none';\n",
              "\n",
              "        async function convertToInteractive(key) {\n",
              "          const element = document.querySelector('#df-8cd68ff1-55bd-43e1-90cf-e5b0d6f2e9bc');\n",
              "          const dataTable =\n",
              "            await google.colab.kernel.invokeFunction('convertToInteractive',\n",
              "                                                     [key], {});\n",
              "          if (!dataTable) return;\n",
              "\n",
              "          const docLinkHtml = 'Like what you see? Visit the ' +\n",
              "            '<a target=\"_blank\" href=https://colab.research.google.com/notebooks/data_table.ipynb>data table notebook</a>'\n",
              "            + ' to learn more about interactive tables.';\n",
              "          element.innerHTML = '';\n",
              "          dataTable['output_type'] = 'display_data';\n",
              "          await google.colab.output.renderOutput(dataTable, element);\n",
              "          const docLink = document.createElement('div');\n",
              "          docLink.innerHTML = docLinkHtml;\n",
              "          element.appendChild(docLink);\n",
              "        }\n",
              "      </script>\n",
              "    </div>\n",
              "  </div>\n",
              "  "
            ]
          },
          "metadata": {},
          "execution_count": 31
        }
      ],
      "source": [
        "# Compara a taxa de sobrevivência por cabine\n",
        "print(dataset_train.cabin_adv.value_counts())\n",
        "pd.pivot_table(dataset_train,index='Survived',columns='cabin_adv', values = 'Name', aggfunc='count')"
      ]
    },
    {
      "cell_type": "code",
      "execution_count": null,
      "metadata": {
        "colab": {
          "base_uri": "https://localhost:8080/"
        },
        "id": "pKrKocS0-ijT",
        "outputId": "cdd2190e-f546-4d9e-cdde-1ac7cd41c21a"
      },
      "outputs": [
        {
          "output_type": "execute_result",
          "data": {
            "text/plain": [
              "1    460\n",
              "0    163\n",
              "Name: numeric_ticket, dtype: int64"
            ]
          },
          "metadata": {},
          "execution_count": 32
        }
      ],
      "source": [
        "# Entendendo melhor os valores de ticket\n",
        "# Numérico vs não-numérico\n",
        "dataset_train['numeric_ticket'] = dataset_train.Ticket.apply(lambda x: 1 if x.isnumeric() else 0)\n",
        "dataset_train['ticket_letters'] = dataset_train.Ticket.apply(lambda x: ''.join(x.split(' ')[:-1]).replace('.','').replace('/','').lower() if len(x.split(' ')[:-1]) >0 else 0)\n",
        "\n",
        "dataset_train['numeric_ticket'].value_counts()"
      ]
    },
    {
      "cell_type": "code",
      "execution_count": null,
      "metadata": {
        "colab": {
          "base_uri": "https://localhost:8080/"
        },
        "id": "7hNuCyXA-ljl",
        "outputId": "6e689b64-9d22-41b1-85f1-0bca87d8373d"
      },
      "outputs": [
        {
          "output_type": "execute_result",
          "data": {
            "text/plain": [
              "0            463\n",
              "pc            44\n",
              "ca            27\n",
              "a5            16\n",
              "stono2        11\n",
              "sotonoq       10\n",
              "scparis        8\n",
              "a4             6\n",
              "soc            5\n",
              "wc             5\n",
              "c              5\n",
              "fcc            4\n",
              "pp             3\n",
              "sopp           2\n",
              "sotono2        2\n",
              "wep            2\n",
              "ppp            2\n",
              "scow           1\n",
              "swpp           1\n",
              "fa             1\n",
              "scahbasle      1\n",
              "scah           1\n",
              "casoton        1\n",
              "sp             1\n",
              "sc             1\n",
              "Name: ticket_letters, dtype: int64"
            ]
          },
          "metadata": {},
          "execution_count": 33
        }
      ],
      "source": [
        "# Possibilita ver todas as linhas do dataset\n",
        "pd.set_option(\"display.max_rows\", None)\n",
        "dataset_train['ticket_letters'].value_counts()"
      ]
    },
    {
      "cell_type": "code",
      "execution_count": null,
      "metadata": {
        "colab": {
          "base_uri": "https://localhost:8080/"
        },
        "id": "dzBlIxuh-ncs",
        "outputId": "7998bfd2-2e62-4f03-c7a1-5f3796b5fae8"
      },
      "outputs": [
        {
          "output_type": "execute_result",
          "data": {
            "text/plain": [
              "numeric_ticket    0    1\n",
              "Survived                \n",
              "0               100  292\n",
              "1                63  168"
            ],
            "text/html": [
              "\n",
              "  <div id=\"df-e5b97f7c-c11b-4149-ad92-7e8f1ec551fc\">\n",
              "    <div class=\"colab-df-container\">\n",
              "      <div>\n",
              "<style scoped>\n",
              "    .dataframe tbody tr th:only-of-type {\n",
              "        vertical-align: middle;\n",
              "    }\n",
              "\n",
              "    .dataframe tbody tr th {\n",
              "        vertical-align: top;\n",
              "    }\n",
              "\n",
              "    .dataframe thead th {\n",
              "        text-align: right;\n",
              "    }\n",
              "</style>\n",
              "<table border=\"1\" class=\"dataframe\">\n",
              "  <thead>\n",
              "    <tr style=\"text-align: right;\">\n",
              "      <th>numeric_ticket</th>\n",
              "      <th>0</th>\n",
              "      <th>1</th>\n",
              "    </tr>\n",
              "    <tr>\n",
              "      <th>Survived</th>\n",
              "      <th></th>\n",
              "      <th></th>\n",
              "    </tr>\n",
              "  </thead>\n",
              "  <tbody>\n",
              "    <tr>\n",
              "      <th>0</th>\n",
              "      <td>100</td>\n",
              "      <td>292</td>\n",
              "    </tr>\n",
              "    <tr>\n",
              "      <th>1</th>\n",
              "      <td>63</td>\n",
              "      <td>168</td>\n",
              "    </tr>\n",
              "  </tbody>\n",
              "</table>\n",
              "</div>\n",
              "      <button class=\"colab-df-convert\" onclick=\"convertToInteractive('df-e5b97f7c-c11b-4149-ad92-7e8f1ec551fc')\"\n",
              "              title=\"Convert this dataframe to an interactive table.\"\n",
              "              style=\"display:none;\">\n",
              "        \n",
              "  <svg xmlns=\"http://www.w3.org/2000/svg\" height=\"24px\"viewBox=\"0 0 24 24\"\n",
              "       width=\"24px\">\n",
              "    <path d=\"M0 0h24v24H0V0z\" fill=\"none\"/>\n",
              "    <path d=\"M18.56 5.44l.94 2.06.94-2.06 2.06-.94-2.06-.94-.94-2.06-.94 2.06-2.06.94zm-11 1L8.5 8.5l.94-2.06 2.06-.94-2.06-.94L8.5 2.5l-.94 2.06-2.06.94zm10 10l.94 2.06.94-2.06 2.06-.94-2.06-.94-.94-2.06-.94 2.06-2.06.94z\"/><path d=\"M17.41 7.96l-1.37-1.37c-.4-.4-.92-.59-1.43-.59-.52 0-1.04.2-1.43.59L10.3 9.45l-7.72 7.72c-.78.78-.78 2.05 0 2.83L4 21.41c.39.39.9.59 1.41.59.51 0 1.02-.2 1.41-.59l7.78-7.78 2.81-2.81c.8-.78.8-2.07 0-2.86zM5.41 20L4 18.59l7.72-7.72 1.47 1.35L5.41 20z\"/>\n",
              "  </svg>\n",
              "      </button>\n",
              "      \n",
              "  <style>\n",
              "    .colab-df-container {\n",
              "      display:flex;\n",
              "      flex-wrap:wrap;\n",
              "      gap: 12px;\n",
              "    }\n",
              "\n",
              "    .colab-df-convert {\n",
              "      background-color: #E8F0FE;\n",
              "      border: none;\n",
              "      border-radius: 50%;\n",
              "      cursor: pointer;\n",
              "      display: none;\n",
              "      fill: #1967D2;\n",
              "      height: 32px;\n",
              "      padding: 0 0 0 0;\n",
              "      width: 32px;\n",
              "    }\n",
              "\n",
              "    .colab-df-convert:hover {\n",
              "      background-color: #E2EBFA;\n",
              "      box-shadow: 0px 1px 2px rgba(60, 64, 67, 0.3), 0px 1px 3px 1px rgba(60, 64, 67, 0.15);\n",
              "      fill: #174EA6;\n",
              "    }\n",
              "\n",
              "    [theme=dark] .colab-df-convert {\n",
              "      background-color: #3B4455;\n",
              "      fill: #D2E3FC;\n",
              "    }\n",
              "\n",
              "    [theme=dark] .colab-df-convert:hover {\n",
              "      background-color: #434B5C;\n",
              "      box-shadow: 0px 1px 3px 1px rgba(0, 0, 0, 0.15);\n",
              "      filter: drop-shadow(0px 1px 2px rgba(0, 0, 0, 0.3));\n",
              "      fill: #FFFFFF;\n",
              "    }\n",
              "  </style>\n",
              "\n",
              "      <script>\n",
              "        const buttonEl =\n",
              "          document.querySelector('#df-e5b97f7c-c11b-4149-ad92-7e8f1ec551fc button.colab-df-convert');\n",
              "        buttonEl.style.display =\n",
              "          google.colab.kernel.accessAllowed ? 'block' : 'none';\n",
              "\n",
              "        async function convertToInteractive(key) {\n",
              "          const element = document.querySelector('#df-e5b97f7c-c11b-4149-ad92-7e8f1ec551fc');\n",
              "          const dataTable =\n",
              "            await google.colab.kernel.invokeFunction('convertToInteractive',\n",
              "                                                     [key], {});\n",
              "          if (!dataTable) return;\n",
              "\n",
              "          const docLinkHtml = 'Like what you see? Visit the ' +\n",
              "            '<a target=\"_blank\" href=https://colab.research.google.com/notebooks/data_table.ipynb>data table notebook</a>'\n",
              "            + ' to learn more about interactive tables.';\n",
              "          element.innerHTML = '';\n",
              "          dataTable['output_type'] = 'display_data';\n",
              "          await google.colab.output.renderOutput(dataTable, element);\n",
              "          const docLink = document.createElement('div');\n",
              "          docLink.innerHTML = docLinkHtml;\n",
              "          element.appendChild(docLink);\n",
              "        }\n",
              "      </script>\n",
              "    </div>\n",
              "  </div>\n",
              "  "
            ]
          },
          "metadata": {},
          "execution_count": 34
        }
      ],
      "source": [
        "# Diferença entre tickets numéricos vs não-numéricos na taxa de sobrevivência\n",
        "pd.pivot_table(dataset_train,index='Survived',columns='numeric_ticket', values = 'Ticket', aggfunc='count')"
      ]
    },
    {
      "cell_type": "code",
      "execution_count": null,
      "metadata": {
        "colab": {
          "base_uri": "https://localhost:8080/"
        },
        "id": "9NUrQFHJ-ps7",
        "outputId": "ec9cc42f-6d5a-4194-c9da-1062864c5ee2"
      },
      "outputs": [
        {
          "output_type": "execute_result",
          "data": {
            "text/plain": [
              "ticket_letters      0   a4    a5    c    ca  casoton   fa  fcc    pc   pp  \\\n",
              "Survived                                                                    \n",
              "0               294.0  6.0  15.0  3.0  18.0      1.0  1.0  1.0  17.0  1.0   \n",
              "1               169.0  NaN   1.0  2.0   9.0      NaN  NaN  3.0  27.0  2.0   \n",
              "\n",
              "ticket_letters  ...  scparis  soc  sopp  sotono2  sotonoq   sp  stono2  swpp  \\\n",
              "Survived        ...                                                            \n",
              "0               ...      4.0  4.0   2.0      2.0      8.0  1.0     6.0   NaN   \n",
              "1               ...      4.0  1.0   NaN      NaN      2.0  NaN     5.0   1.0   \n",
              "\n",
              "ticket_letters   wc  wep  \n",
              "Survived                  \n",
              "0               4.0  2.0  \n",
              "1               1.0  NaN  \n",
              "\n",
              "[2 rows x 25 columns]"
            ],
            "text/html": [
              "\n",
              "  <div id=\"df-1028a3f1-ed5b-4af5-8d68-f8cc08f64225\">\n",
              "    <div class=\"colab-df-container\">\n",
              "      <div>\n",
              "<style scoped>\n",
              "    .dataframe tbody tr th:only-of-type {\n",
              "        vertical-align: middle;\n",
              "    }\n",
              "\n",
              "    .dataframe tbody tr th {\n",
              "        vertical-align: top;\n",
              "    }\n",
              "\n",
              "    .dataframe thead th {\n",
              "        text-align: right;\n",
              "    }\n",
              "</style>\n",
              "<table border=\"1\" class=\"dataframe\">\n",
              "  <thead>\n",
              "    <tr style=\"text-align: right;\">\n",
              "      <th>ticket_letters</th>\n",
              "      <th>0</th>\n",
              "      <th>a4</th>\n",
              "      <th>a5</th>\n",
              "      <th>c</th>\n",
              "      <th>ca</th>\n",
              "      <th>casoton</th>\n",
              "      <th>fa</th>\n",
              "      <th>fcc</th>\n",
              "      <th>pc</th>\n",
              "      <th>pp</th>\n",
              "      <th>...</th>\n",
              "      <th>scparis</th>\n",
              "      <th>soc</th>\n",
              "      <th>sopp</th>\n",
              "      <th>sotono2</th>\n",
              "      <th>sotonoq</th>\n",
              "      <th>sp</th>\n",
              "      <th>stono2</th>\n",
              "      <th>swpp</th>\n",
              "      <th>wc</th>\n",
              "      <th>wep</th>\n",
              "    </tr>\n",
              "    <tr>\n",
              "      <th>Survived</th>\n",
              "      <th></th>\n",
              "      <th></th>\n",
              "      <th></th>\n",
              "      <th></th>\n",
              "      <th></th>\n",
              "      <th></th>\n",
              "      <th></th>\n",
              "      <th></th>\n",
              "      <th></th>\n",
              "      <th></th>\n",
              "      <th></th>\n",
              "      <th></th>\n",
              "      <th></th>\n",
              "      <th></th>\n",
              "      <th></th>\n",
              "      <th></th>\n",
              "      <th></th>\n",
              "      <th></th>\n",
              "      <th></th>\n",
              "      <th></th>\n",
              "      <th></th>\n",
              "    </tr>\n",
              "  </thead>\n",
              "  <tbody>\n",
              "    <tr>\n",
              "      <th>0</th>\n",
              "      <td>294.0</td>\n",
              "      <td>6.0</td>\n",
              "      <td>15.0</td>\n",
              "      <td>3.0</td>\n",
              "      <td>18.0</td>\n",
              "      <td>1.0</td>\n",
              "      <td>1.0</td>\n",
              "      <td>1.0</td>\n",
              "      <td>17.0</td>\n",
              "      <td>1.0</td>\n",
              "      <td>...</td>\n",
              "      <td>4.0</td>\n",
              "      <td>4.0</td>\n",
              "      <td>2.0</td>\n",
              "      <td>2.0</td>\n",
              "      <td>8.0</td>\n",
              "      <td>1.0</td>\n",
              "      <td>6.0</td>\n",
              "      <td>NaN</td>\n",
              "      <td>4.0</td>\n",
              "      <td>2.0</td>\n",
              "    </tr>\n",
              "    <tr>\n",
              "      <th>1</th>\n",
              "      <td>169.0</td>\n",
              "      <td>NaN</td>\n",
              "      <td>1.0</td>\n",
              "      <td>2.0</td>\n",
              "      <td>9.0</td>\n",
              "      <td>NaN</td>\n",
              "      <td>NaN</td>\n",
              "      <td>3.0</td>\n",
              "      <td>27.0</td>\n",
              "      <td>2.0</td>\n",
              "      <td>...</td>\n",
              "      <td>4.0</td>\n",
              "      <td>1.0</td>\n",
              "      <td>NaN</td>\n",
              "      <td>NaN</td>\n",
              "      <td>2.0</td>\n",
              "      <td>NaN</td>\n",
              "      <td>5.0</td>\n",
              "      <td>1.0</td>\n",
              "      <td>1.0</td>\n",
              "      <td>NaN</td>\n",
              "    </tr>\n",
              "  </tbody>\n",
              "</table>\n",
              "<p>2 rows × 25 columns</p>\n",
              "</div>\n",
              "      <button class=\"colab-df-convert\" onclick=\"convertToInteractive('df-1028a3f1-ed5b-4af5-8d68-f8cc08f64225')\"\n",
              "              title=\"Convert this dataframe to an interactive table.\"\n",
              "              style=\"display:none;\">\n",
              "        \n",
              "  <svg xmlns=\"http://www.w3.org/2000/svg\" height=\"24px\"viewBox=\"0 0 24 24\"\n",
              "       width=\"24px\">\n",
              "    <path d=\"M0 0h24v24H0V0z\" fill=\"none\"/>\n",
              "    <path d=\"M18.56 5.44l.94 2.06.94-2.06 2.06-.94-2.06-.94-.94-2.06-.94 2.06-2.06.94zm-11 1L8.5 8.5l.94-2.06 2.06-.94-2.06-.94L8.5 2.5l-.94 2.06-2.06.94zm10 10l.94 2.06.94-2.06 2.06-.94-2.06-.94-.94-2.06-.94 2.06-2.06.94z\"/><path d=\"M17.41 7.96l-1.37-1.37c-.4-.4-.92-.59-1.43-.59-.52 0-1.04.2-1.43.59L10.3 9.45l-7.72 7.72c-.78.78-.78 2.05 0 2.83L4 21.41c.39.39.9.59 1.41.59.51 0 1.02-.2 1.41-.59l7.78-7.78 2.81-2.81c.8-.78.8-2.07 0-2.86zM5.41 20L4 18.59l7.72-7.72 1.47 1.35L5.41 20z\"/>\n",
              "  </svg>\n",
              "      </button>\n",
              "      \n",
              "  <style>\n",
              "    .colab-df-container {\n",
              "      display:flex;\n",
              "      flex-wrap:wrap;\n",
              "      gap: 12px;\n",
              "    }\n",
              "\n",
              "    .colab-df-convert {\n",
              "      background-color: #E8F0FE;\n",
              "      border: none;\n",
              "      border-radius: 50%;\n",
              "      cursor: pointer;\n",
              "      display: none;\n",
              "      fill: #1967D2;\n",
              "      height: 32px;\n",
              "      padding: 0 0 0 0;\n",
              "      width: 32px;\n",
              "    }\n",
              "\n",
              "    .colab-df-convert:hover {\n",
              "      background-color: #E2EBFA;\n",
              "      box-shadow: 0px 1px 2px rgba(60, 64, 67, 0.3), 0px 1px 3px 1px rgba(60, 64, 67, 0.15);\n",
              "      fill: #174EA6;\n",
              "    }\n",
              "\n",
              "    [theme=dark] .colab-df-convert {\n",
              "      background-color: #3B4455;\n",
              "      fill: #D2E3FC;\n",
              "    }\n",
              "\n",
              "    [theme=dark] .colab-df-convert:hover {\n",
              "      background-color: #434B5C;\n",
              "      box-shadow: 0px 1px 3px 1px rgba(0, 0, 0, 0.15);\n",
              "      filter: drop-shadow(0px 1px 2px rgba(0, 0, 0, 0.3));\n",
              "      fill: #FFFFFF;\n",
              "    }\n",
              "  </style>\n",
              "\n",
              "      <script>\n",
              "        const buttonEl =\n",
              "          document.querySelector('#df-1028a3f1-ed5b-4af5-8d68-f8cc08f64225 button.colab-df-convert');\n",
              "        buttonEl.style.display =\n",
              "          google.colab.kernel.accessAllowed ? 'block' : 'none';\n",
              "\n",
              "        async function convertToInteractive(key) {\n",
              "          const element = document.querySelector('#df-1028a3f1-ed5b-4af5-8d68-f8cc08f64225');\n",
              "          const dataTable =\n",
              "            await google.colab.kernel.invokeFunction('convertToInteractive',\n",
              "                                                     [key], {});\n",
              "          if (!dataTable) return;\n",
              "\n",
              "          const docLinkHtml = 'Like what you see? Visit the ' +\n",
              "            '<a target=\"_blank\" href=https://colab.research.google.com/notebooks/data_table.ipynb>data table notebook</a>'\n",
              "            + ' to learn more about interactive tables.';\n",
              "          element.innerHTML = '';\n",
              "          dataTable['output_type'] = 'display_data';\n",
              "          await google.colab.output.renderOutput(dataTable, element);\n",
              "          const docLink = document.createElement('div');\n",
              "          docLink.innerHTML = docLinkHtml;\n",
              "          element.appendChild(docLink);\n",
              "        }\n",
              "      </script>\n",
              "    </div>\n",
              "  </div>\n",
              "  "
            ]
          },
          "metadata": {},
          "execution_count": 35
        }
      ],
      "source": [
        "#Taxa de sobrevivência através de diferentes valores de tickets\n",
        "pd.pivot_table(dataset_train,index='Survived',columns='ticket_letters', values = 'Ticket', aggfunc='count')"
      ]
    },
    {
      "cell_type": "code",
      "execution_count": null,
      "metadata": {
        "colab": {
          "base_uri": "https://localhost:8080/"
        },
        "id": "O2Yk5RV8YJph",
        "outputId": "b523c62b-e0fa-45c5-b2e8-df56379515fa"
      },
      "outputs": [
        {
          "output_type": "execute_result",
          "data": {
            "text/plain": [
              "Mr          369\n",
              "Miss        119\n",
              "Mrs          90\n",
              "Master       28\n",
              "Rev           5\n",
              "Dr            5\n",
              "Jonkheer      1\n",
              "Mlle          1\n",
              "Sir           1\n",
              "Ms            1\n",
              "Capt          1\n",
              "Major         1\n",
              "Don           1\n",
              "Name: name_title, dtype: int64"
            ]
          },
          "metadata": {},
          "execution_count": 36
        }
      ],
      "source": [
        "# cria uma nova coluna chamada \"name_title\" e preenche com o título de cada nome presente na coluna \"Name\" do DataFrame \"dataset_train\".\n",
        "\n",
        "dataset_train.Name.head(50)\n",
        "dataset_train['name_title'] = dataset_train.Name.apply(lambda x: x.split(',')[1].split('.')[0].strip())\n",
        "dataset_train['name_title'].value_counts()"
      ]
    },
    {
      "cell_type": "markdown",
      "metadata": {
        "id": "LJ-RAIzHYJpi"
      },
      "source": [
        "## Preprocessamento de data para o modelo\n",
        "### 1) Dropar valores nulos de Embarked (Apenas 2)\n",
        "\n",
        "### 2)  Incluir apenas variaveis relevantes (Pois temos dados limitados, quisemos excluir coisas como os nomes e ID dos passageiros para ter um número razoavel de features para nosso modelo lidar)\n",
        "Variables:  'Pclass', 'Sex','Age', 'SibSp', 'Parch', 'Fare', 'Embarked', 'cabin_adv', 'cabin_multiple', 'numeric_ticket', 'name_title'\n",
        "\n",
        "### 3) Fazer transformacoes categoricas em todo o Data. Geralmente poderiamos usar um transformador, mas com esse tipo de abordagem garantimos que nosso data de treinamento e de testes tem a mesma coluna. Tambem poderiamos inferir algo sobre o Shape do data de teste por esse metodo.\n",
        "\n",
        "### 4) Data com media para \"fare\" e \"age\"\n",
        "\n",
        "### 5) \"Fare\" normalizada usando logaritmo para parecer mais natural\n",
        "\n",
        "### 6) Data escalada 0 - 1 com um escalador comum\n"
      ]
    },
    {
      "cell_type": "code",
      "execution_count": null,
      "metadata": {
        "id": "Sb2kCpENAIvK"
      },
      "outputs": [],
      "source": [
        "#Criar todas as variaveis para o dataset e o test set\n",
        "all_data['cabin_multiple']  = all_data.Cabin.apply(lambda x: 0 if pd.isna(x) else len(x.split(' ')))\n",
        "all_data['cabin_adv']       = all_data.Cabin.apply(lambda x: str(x)[0])\n",
        "all_data['numeric_ticket']  = all_data.Ticket.apply(lambda x: 1 if x.isnumeric() else 0)\n",
        "all_data['ticket_letters']  = all_data.Ticket.apply(lambda x: ''.join(x.split(' ')[:-1]).replace('.','').replace('/','').lower() if len(x.split(' ')[:-1]) >0 else 0)\n",
        "all_data['name_title']      = all_data.Name.apply(lambda x: x.split(',')[1].split('.')[0].strip())\n"
      ]
    },
    {
      "cell_type": "code",
      "execution_count": null,
      "metadata": {
        "id": "07WCwATFAKo7"
      },
      "outputs": [],
      "source": [
        "#impute nulls for continuous data\n",
        "#all_data.Age   = all_data.Age.fillna(dataset_train.Age.mean())\n",
        "all_data.Age    = all_data.Age.fillna(dataset_train.Age.median())\n",
        "#all_data.Fare  = all_data.Fare.fillna(dataset_train.Fare.mean())\n",
        "all_data.Fare   = all_data.Fare.fillna(dataset_train.Fare.median())"
      ]
    },
    {
      "cell_type": "code",
      "execution_count": null,
      "metadata": {
        "colab": {
          "base_uri": "https://localhost:8080/",
          "height": 406
        },
        "id": "kM5_ciYRYJpi",
        "outputId": "98af66a3-d212-49dd-e66a-d5768e16f3bf"
      },
      "outputs": [
        {
          "output_type": "display_data",
          "data": {
            "text/plain": [
              "<Figure size 640x480 with 1 Axes>"
            ],
            "image/png": "[encoded data removed]"
          },
          "metadata": {}
        }
      ],
      "source": [
        "#exclui as colunas que estao marcadas com \"embarked\"\n",
        "all_data.dropna(subset=['Embarked'],inplace = True)\n",
        "\n",
        "\n",
        "\n",
        "all_data.Pclass = all_data.Pclass.astype(str)\n",
        "\n",
        "#criar variaveis de \"exemplo\"\n",
        "all_dummies = pd.get_dummies(all_data[['Pclass','Sex','Age','SibSp','Parch','Embarked','cabin_adv','cabin_multiple','numeric_ticket','name_title','training_data']])\n",
        "\n",
        "#dividir para treinar os testes\n",
        "X_train = all_dummies[all_dummies.training_data == 1].drop(['training_data'], axis =1)\n",
        "X_test  = all_dummies[all_dummies.training_data == 0].drop(['training_data'], axis =1)\n",
        "\n",
        "\n",
        "y_train = all_data[all_data.training_data==1].Survived\n",
        "y_test = all_data[all_data.training_data==0].Survived\n",
        "\n",
        "plt.pie([len(y_train),len(y_test)],labels = [\"train\",\"test\"],autopct  = \"%1.1f%%\")\n",
        "plt.show()"
      ]
    },
    {
      "cell_type": "code",
      "execution_count": null,
      "metadata": {
        "colab": {
          "base_uri": "https://localhost:8080/"
        },
        "id": "XBOAeWo9GsSJ",
        "outputId": "14800413-d839-45c0-8af0-e599895ada06"
      },
      "outputs": [
        {
          "output_type": "stream",
          "name": "stdout",
          "text": [
            "Fitting 5 folds for each of 72 candidates, totalling 360 fits\n",
            "Best Score: 0.8149935483870967\n",
            "Best Parameters: {'criterion': 'entropy', 'max_depth': 15, 'max_features': 'auto', 'min_samples_leaf': 2, 'min_samples_split': 2}\n"
          ]
        },
        {
          "output_type": "stream",
          "name": "stderr",
          "text": [
            "/usr/local/lib/python3.9/dist-packages/sklearn/tree/_classes.py:269: FutureWarning: `max_features='auto'` has been deprecated in 1.1 and will be removed in 1.3. To keep the past behaviour, explicitly set `max_features='sqrt'`.\n",
            "  warnings.warn(\n"
          ]
        }
      ],
      "source": [
        "#Realiza a busca dos melhores hiperparâmetros para um modelo de classificação de árvore de decisão (DecisionTreeClassifier) usando a técnica de Grid Search Cross-Validation (GridSearchCV).\n",
        "arvore = tree.DecisionTreeClassifier(random_state = SEED)\n",
        "param_grid =  {\n",
        "               'criterion':['gini','entropy'],\n",
        "                                  'max_depth': [15, 20, 25],\n",
        "                                  'max_features': ['auto','sqrt', 10],\n",
        "                                  'min_samples_leaf': [2,3],\n",
        "                                  'min_samples_split': [2,3]}\n",
        "\n",
        "searcher_arvore = GridSearchCV(arvore, param_grid = param_grid, cv = 5, verbose = True, n_jobs = -1)\n",
        "best_arvore = searcher_arvore.fit(X_train,y_train)\n",
        "\n",
        "print('Best Score: ' + str(searcher_arvore.best_score_))\n",
        "print('Best Parameters: ' + str(searcher_arvore.best_params_))"
      ]
    },
    {
      "cell_type": "code",
      "execution_count": null,
      "metadata": {
        "colab": {
          "base_uri": "https://localhost:8080/"
        },
        "id": "1WxO2KIZYJpn",
        "outputId": "56374416-0c1f-42c3-a15c-b481dc74dd9b"
      },
      "outputs": [
        {
          "output_type": "stream",
          "name": "stdout",
          "text": [
            "Fitting 5 folds for each of 72 candidates, totalling 360 fits\n",
            "Best Score: 0.8295225806451612\n",
            "Best Parameters: {'bootstrap': True, 'criterion': 'entropy', 'max_depth': 15, 'min_samples_leaf': 2, 'min_samples_split': 2, 'n_estimators': 40}\n"
          ]
        }
      ],
      "source": [
        "# realiza uma grid search para encontrar os melhores hiperparâmetros para um modelo de classificação de floresta aleatória (Random Forest)\n",
        "rf = RandomForestClassifier(random_state = SEED)\n",
        "param_grid =  {'n_estimators': [40,45,50],\n",
        "               'criterion':['gini','entropy'],\n",
        "                                  'bootstrap': [True],\n",
        "                                  'max_depth': [15, 20, 25],\n",
        "\n",
        "                                  'min_samples_leaf': [2,3],\n",
        "                                  'min_samples_split': [2,3]}\n",
        "\n",
        "searcher_rf = GridSearchCV(rf, param_grid = param_grid, cv = 5, verbose = True, n_jobs = -1)\n",
        "best_clf_rf = searcher_rf.fit(X_train,y_train)\n",
        "\n",
        "print('Best Score: ' + str(searcher_rf.best_score_))\n",
        "print('Best Parameters: ' + str(searcher_rf.best_params_))"
      ]
    },
    {
      "cell_type": "code",
      "execution_count": null,
      "metadata": {
        "colab": {
          "base_uri": "https://localhost:8080/"
        },
        "id": "RhSctj_RYJpk",
        "outputId": "ae088661-c2c3-4090-8e9e-9361a72508fc"
      },
      "outputs": [
        {
          "output_type": "stream",
          "name": "stdout",
          "text": [
            "Fitting 5 folds for each of 72 candidates, totalling 360 fits\n"
          ]
        },
        {
          "output_type": "stream",
          "name": "stderr",
          "text": [
            "/usr/local/lib/python3.9/dist-packages/sklearn/tree/_classes.py:269: FutureWarning: `max_features='auto'` has been deprecated in 1.1 and will be removed in 1.3. To keep the past behaviour, explicitly set `max_features='sqrt'`.\n",
            "  warnings.warn(\n"
          ]
        },
        {
          "output_type": "stream",
          "name": "stdout",
          "text": [
            "Fitting 5 folds for each of 72 candidates, totalling 360 fits\n"
          ]
        },
        {
          "output_type": "stream",
          "name": "stderr",
          "text": [
            "/usr/local/lib/python3.9/dist-packages/sklearn/tree/_classes.py:269: FutureWarning: `max_features='auto'` has been deprecated in 1.1 and will be removed in 1.3. To keep the past behaviour, explicitly set `max_features='sqrt'`.\n",
            "  warnings.warn(\n"
          ]
        },
        {
          "output_type": "stream",
          "name": "stdout",
          "text": [
            "Fitting 5 folds for each of 72 candidates, totalling 360 fits\n"
          ]
        },
        {
          "output_type": "stream",
          "name": "stderr",
          "text": [
            "/usr/local/lib/python3.9/dist-packages/sklearn/tree/_classes.py:269: FutureWarning: `max_features='auto'` has been deprecated in 1.1 and will be removed in 1.3. To keep the past behaviour, explicitly set `max_features='sqrt'`.\n",
            "  warnings.warn(\n"
          ]
        },
        {
          "output_type": "stream",
          "name": "stdout",
          "text": [
            "Fitting 5 folds for each of 72 candidates, totalling 360 fits\n"
          ]
        },
        {
          "output_type": "stream",
          "name": "stderr",
          "text": [
            "/usr/local/lib/python3.9/dist-packages/sklearn/tree/_classes.py:269: FutureWarning: `max_features='auto'` has been deprecated in 1.1 and will be removed in 1.3. To keep the past behaviour, explicitly set `max_features='sqrt'`.\n",
            "  warnings.warn(\n"
          ]
        },
        {
          "output_type": "stream",
          "name": "stdout",
          "text": [
            "Fitting 5 folds for each of 72 candidates, totalling 360 fits\n",
            "arvore de decisao\n",
            "[0.824      0.792      0.84677419 0.78225806 0.72580645]\n",
            "0.7941677419354839\n",
            "Fitting 5 folds for each of 72 candidates, totalling 360 fits\n",
            "Fitting 5 folds for each of 72 candidates, totalling 360 fits\n",
            "Fitting 5 folds for each of 72 candidates, totalling 360 fits\n",
            "Fitting 5 folds for each of 72 candidates, totalling 360 fits\n",
            "Fitting 5 folds for each of 72 candidates, totalling 360 fits\n",
            "[0.832      0.848      0.83064516 0.82258065 0.76612903]\n",
            "0.8198709677419356\n"
          ]
        }
      ],
      "source": [
        "#realiza validação cruzada em modelos de aprendizado de máquina utilizando as funções cross_val_score e mean\n",
        "cv = cross_val_score(best_arvore,X_train,y_train,cv=5)\n",
        "print(\"arvore de decisao\")\n",
        "print(cv)\n",
        "print(cv.mean())\n",
        "\n",
        "\n",
        "cv = cross_val_score(best_clf_rf,X_train,y_train,cv=5)\n",
        "print(cv)\n",
        "print(cv.mean())"
      ]
    },
    {
      "cell_type": "code",
      "execution_count": null,
      "metadata": {
        "colab": {
          "base_uri": "https://localhost:8080/"
        },
        "id": "vHOgLO5xIB9r",
        "outputId": "a462e4c6-da62-41eb-887a-be20f78f63a3"
      },
      "outputs": [
        {
          "output_type": "stream",
          "name": "stdout",
          "text": [
            "              precision    recall  f1-score   support\n",
            "\n",
            "           0       0.86      0.96      0.91       392\n",
            "           1       0.92      0.74      0.82       230\n",
            "\n",
            "    accuracy                           0.88       622\n",
            "   macro avg       0.89      0.85      0.87       622\n",
            "weighted avg       0.89      0.88      0.88       622\n",
            "\n"
          ]
        }
      ],
      "source": [
        "#usa o modelo treinado, na variável best_arvore, para fazer previsões nos dados de treinamento (X_train) e avaliar o desempenho do modelo usando o classification_report em comparação com o y_train.\n",
        "y_pred = best_arvore.predict(X_train)\n",
        "print(classification_report(y_train,y_pred))"
      ]
    },
    {
      "cell_type": "code",
      "execution_count": null,
      "metadata": {
        "colab": {
          "base_uri": "https://localhost:8080/"
        },
        "id": "SIRRifBpI0Yg",
        "outputId": "0eb27465-de0e-41f8-e3b3-16f1dc07ce37"
      },
      "outputs": [
        {
          "output_type": "stream",
          "name": "stdout",
          "text": [
            "              precision    recall  f1-score   support\n",
            "\n",
            "           0       0.80      0.85      0.82       157\n",
            "           1       0.77      0.69      0.73       110\n",
            "\n",
            "    accuracy                           0.79       267\n",
            "   macro avg       0.78      0.77      0.78       267\n",
            "weighted avg       0.79      0.79      0.78       267\n",
            "\n"
          ]
        }
      ],
      "source": [
        "#usa o modelo treinado, na variável best_arvore, para fazer previsões nos dados de teste (X_teste) e avaliar o desempenho do modelo usando o classification_report em comparação com o y_teste.\n",
        "y_pred = best_arvore.predict(X_test)\n",
        "print(classification_report(y_test,y_pred))"
      ]
    },
    {
      "cell_type": "code",
      "execution_count": null,
      "metadata": {
        "colab": {
          "base_uri": "https://localhost:8080/"
        },
        "id": "PCCpOTwEJIT3",
        "outputId": "2cc09d21-f3ce-4e8a-f031-86bc4020dd13"
      },
      "outputs": [
        {
          "output_type": "stream",
          "name": "stdout",
          "text": [
            "              precision    recall  f1-score   support\n",
            "\n",
            "           0       0.88      0.96      0.91       392\n",
            "           1       0.91      0.77      0.83       230\n",
            "\n",
            "    accuracy                           0.89       622\n",
            "   macro avg       0.89      0.86      0.87       622\n",
            "weighted avg       0.89      0.89      0.89       622\n",
            "\n"
          ]
        }
      ],
      "source": [
        "##usa o modelo treinado, na variável best_arvore, para fazer previsões nos dados de treinamento (X_train) e avaliar o desempenho do modelo usando o classification_report em comparação com o y_teste.\n",
        "y_pred = best_clf_rf.predict(X_train)\n",
        "print(classification_report(y_train,y_pred))"
      ]
    },
    {
      "cell_type": "code",
      "execution_count": null,
      "metadata": {
        "colab": {
          "base_uri": "https://localhost:8080/"
        },
        "id": "2zurSI4WJIT5",
        "outputId": "93c39f11-cd66-4ecc-db4e-3c0e935d6c67"
      },
      "outputs": [
        {
          "output_type": "stream",
          "name": "stdout",
          "text": [
            "              precision    recall  f1-score   support\n",
            "\n",
            "           0       0.78      0.89      0.83       157\n",
            "           1       0.80      0.64      0.71       110\n",
            "\n",
            "    accuracy                           0.79       267\n",
            "   macro avg       0.79      0.76      0.77       267\n",
            "weighted avg       0.79      0.79      0.78       267\n",
            "\n"
          ]
        }
      ],
      "source": [
        "##usa o modelo treinado, na variável best_arvore, para fazer previsões nos dados de teste (X_teste) e avaliar o desempenho do modelo usando o classification_report em comparação com o y_teste.\n",
        "y_pred = best_clf_rf.predict(X_test)\n",
        "print(classification_report(y_test,y_pred))"
      ]
    }
  ],
  "metadata": {
    "colab": {
      "provenance": [],
      "collapsed_sections": [
        "ViNIHzZC7w-B",
        "fVX4xKJ8_eaL",
        "xpNhBKkxYJpg"
      ]
    },
    "gpuClass": "standard",
    "kernelspec": {
      "display_name": "Python 3",
      "language": "python",
      "name": "python3"
    },
    "language_info": {
      "codemirror_mode": {
        "name": "ipython",
        "version": 3
      },
      "file_extension": ".py",
      "mimetype": "text/x-python",
      "name": "python",
      "nbconvert_exporter": "python",
      "pygments_lexer": "ipython3",
      "version": "3.6.4"
    }
  },
  "nbformat": 4,
  "nbformat_minor": 0
}